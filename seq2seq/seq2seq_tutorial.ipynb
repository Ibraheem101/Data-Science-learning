{
  "nbformat": 4,
  "nbformat_minor": 0,
  "metadata": {
    "colab": {
      "provenance": [],
      "authorship_tag": "ABX9TyM6fQr/LbEwIVK6R9Pk4Xmk",
      "include_colab_link": true
    },
    "kernelspec": {
      "name": "python3",
      "display_name": "Python 3"
    },
    "language_info": {
      "name": "python"
    }
  },
  "cells": [
    {
      "cell_type": "markdown",
      "metadata": {
        "id": "view-in-github",
        "colab_type": "text"
      },
      "source": [
        "<a href=\"https://colab.research.google.com/github/Ibraheem101/Data-Science-learning/blob/main/seq2seq/seq2seq_tutorial.ipynb\" target=\"_parent\"><img src=\"https://colab.research.google.com/assets/colab-badge.svg\" alt=\"Open In Colab\"/></a>"
      ]
    },
    {
      "cell_type": "markdown",
      "source": [
        "# **Seq2seq for machine translation**\n"
      ],
      "metadata": {
        "id": "LKZtSLeyjLPu"
      }
    },
    {
      "cell_type": "markdown",
      "source": [
        "In this project we will be teaching a neural network to translate from French to English.\n",
        "[Link](https://pytorch.org/tutorials/intermediate/seq2seq_translation_tutorial.html)"
      ],
      "metadata": {
        "id": "5nnjv-18i_jl"
      }
    },
    {
      "cell_type": "code",
      "execution_count": 1,
      "metadata": {
        "id": "tG8eNyTinj2Y"
      },
      "outputs": [],
      "source": [
        "import os\n",
        "import re\n",
        "import json\n",
        "import math\n",
        "import nltk\n",
        "import time\n",
        "import torch\n",
        "import gensim\n",
        "import random\n",
        "import urllib\n",
        "import warnings\n",
        "import itertools\n",
        "import collections\n",
        "import unicodedata\n",
        "import numpy as np\n",
        "import pandas as pd\n",
        "import seaborn as sns\n",
        "import torch.nn as nn\n",
        "import torch.nn.functional as F\n",
        "import matplotlib.pyplot as plt"
      ]
    },
    {
      "cell_type": "code",
      "source": [
        "from io import open\n",
        "from torch import optim\n",
        "from __future__ import unicode_literals, print_function, division\n",
        "from torch.utils.data import TensorDataset, DataLoader, RandomSampler"
      ],
      "metadata": {
        "id": "Br18wPQ4ntV8"
      },
      "execution_count": 2,
      "outputs": []
    },
    {
      "cell_type": "code",
      "source": [
        "# Create word2index and index2word fuction\n",
        "sos_token = 0\n",
        "eos_token = 1\n",
        "\n",
        "class Lang:\n",
        "    \"\"\"\n",
        "    This class has methods to manage the vocabulary, including adding sentences and words,\n",
        "    as well as keeping track of word counts and indices.\n",
        "\n",
        "    name: The name of the language.\n",
        "    word2index: A dictionary mapping words to their corresponding indices in the vocabulary.\n",
        "    word2count: A dictionary mapping words to their count in the dataset.\n",
        "    index2word: A dictionary mapping indices to words in the vocabulary.\n",
        "    n_words: The total number of unique words in the vocabulary.\n",
        "    \"\"\"\n",
        "\n",
        "    def __init__(self, name):\n",
        "        self.name = name\n",
        "        self.word2index = {}\n",
        "        self.word2count = {}\n",
        "        self.index2word = {0: \"SOS\", 1: \"EOS\"}\n",
        "        self.n_words = 2  # Count SOS and EOS\n",
        "\n",
        "    def addSentence(self, sentence):\n",
        "        \"\"\" This method takes a sentence as input, splits it into words,\n",
        "            and calls the addWord method for each word in the sentence.\n",
        "        \"\"\"\n",
        "        for word in sentence.split(' '):\n",
        "            self.addWord(word)\n",
        "\n",
        "    def addWord(self, word):\n",
        "        \"\"\"This method adds a word to the vocabulary if it doesn't exist.\n",
        "            If the word is already in the vocabulary, it updates the word count.\n",
        "        \"\"\"\n",
        "\n",
        "        if word not in self.word2index:\n",
        "            self.word2index[word] = self.n_words\n",
        "            self.word2count[word] = 1\n",
        "            self.index2word[self.n_words] = word\n",
        "            self.n_words += 1\n",
        "\n",
        "        else:\n",
        "            self.word2count[word] += 1\n"
      ],
      "metadata": {
        "id": "snoDYmAkpYre"
      },
      "execution_count": 3,
      "outputs": []
    },
    {
      "cell_type": "code",
      "source": [],
      "metadata": {
        "id": "49zdd-c2X1yh"
      },
      "execution_count": null,
      "outputs": []
    }
  ]
}