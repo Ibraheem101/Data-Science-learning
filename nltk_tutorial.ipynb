{
  "nbformat": 4,
  "nbformat_minor": 0,
  "metadata": {
    "colab": {
      "provenance": [],
      "authorship_tag": "ABX9TyP/1FNU7w9To1CIVKvSeMWe",
      "include_colab_link": true
    },
    "kernelspec": {
      "name": "python3",
      "display_name": "Python 3"
    },
    "language_info": {
      "name": "python"
    }
  },
  "cells": [
    {
      "cell_type": "markdown",
      "metadata": {
        "id": "view-in-github",
        "colab_type": "text"
      },
      "source": [
        "<a href=\"https://colab.research.google.com/github/Ibraheem101/Data-Science-learning/blob/main/nltk_tutorial.ipynb\" target=\"_parent\"><img src=\"https://colab.research.google.com/assets/colab-badge.svg\" alt=\"Open In Colab\"/></a>"
      ]
    },
    {
      "cell_type": "code",
      "execution_count": 1,
      "metadata": {
        "id": "p5M-mAiD9Mvh"
      },
      "outputs": [],
      "source": [
        "import os\n",
        "import nltk\n",
        "import nltk.corpus"
      ]
    },
    {
      "cell_type": "code",
      "source": [
        "nltk.download('punkt')"
      ],
      "metadata": {
        "colab": {
          "base_uri": "https://localhost:8080/"
        },
        "id": "BGzDIx1sFNIT",
        "outputId": "2974525e-5866-4e7d-d047-381682bd6cba"
      },
      "execution_count": 36,
      "outputs": [
        {
          "output_type": "stream",
          "name": "stderr",
          "text": [
            "[nltk_data] Downloading package punkt to /root/nltk_data...\n",
            "[nltk_data]   Unzipping tokenizers/punkt.zip.\n"
          ]
        },
        {
          "output_type": "execute_result",
          "data": {
            "text/plain": [
              "True"
            ]
          },
          "metadata": {},
          "execution_count": 36
        }
      ]
    },
    {
      "cell_type": "code",
      "source": [
        "nltk.download('brown')\n",
        "nltk.download('gutenberg')"
      ],
      "metadata": {
        "colab": {
          "base_uri": "https://localhost:8080/"
        },
        "id": "NIeSAWEy_DWM",
        "outputId": "681d6f97-67ff-4eb8-ff50-9ee1b8df9666"
      },
      "execution_count": 12,
      "outputs": [
        {
          "output_type": "stream",
          "name": "stderr",
          "text": [
            "[nltk_data] Downloading package brown to /root/nltk_data...\n",
            "[nltk_data]   Package brown is already up-to-date!\n",
            "[nltk_data] Downloading package gutenberg to /root/nltk_data...\n",
            "[nltk_data]   Unzipping corpora/gutenberg.zip.\n"
          ]
        },
        {
          "output_type": "execute_result",
          "data": {
            "text/plain": [
              "True"
            ]
          },
          "metadata": {},
          "execution_count": 12
        }
      ]
    },
    {
      "cell_type": "code",
      "source": [
        "from nltk.corpus import brown, gutenberg"
      ],
      "metadata": {
        "id": "eSNPmwD39aOs"
      },
      "execution_count": 13,
      "outputs": []
    },
    {
      "cell_type": "code",
      "source": [
        "brown.words()"
      ],
      "metadata": {
        "colab": {
          "base_uri": "https://localhost:8080/"
        },
        "id": "kPQZzKdB-mDd",
        "outputId": "e05e3b73-980f-437f-abea-1f292696fa45"
      },
      "execution_count": 14,
      "outputs": [
        {
          "output_type": "execute_result",
          "data": {
            "text/plain": [
              "['The', 'Fulton', 'County', 'Grand', 'Jury', 'said', ...]"
            ]
          },
          "metadata": {},
          "execution_count": 14
        }
      ]
    },
    {
      "cell_type": "code",
      "source": [
        "nltk.corpus.gutenberg.fileids()"
      ],
      "metadata": {
        "colab": {
          "base_uri": "https://localhost:8080/"
        },
        "id": "1EFoyVGxAY61",
        "outputId": "b6b93562-37ef-4ec5-98fb-bbe4d3377fe8"
      },
      "execution_count": 15,
      "outputs": [
        {
          "output_type": "execute_result",
          "data": {
            "text/plain": [
              "['austen-emma.txt',\n",
              " 'austen-persuasion.txt',\n",
              " 'austen-sense.txt',\n",
              " 'bible-kjv.txt',\n",
              " 'blake-poems.txt',\n",
              " 'bryant-stories.txt',\n",
              " 'burgess-busterbrown.txt',\n",
              " 'carroll-alice.txt',\n",
              " 'chesterton-ball.txt',\n",
              " 'chesterton-brown.txt',\n",
              " 'chesterton-thursday.txt',\n",
              " 'edgeworth-parents.txt',\n",
              " 'melville-moby_dick.txt',\n",
              " 'milton-paradise.txt',\n",
              " 'shakespeare-caesar.txt',\n",
              " 'shakespeare-hamlet.txt',\n",
              " 'shakespeare-macbeth.txt',\n",
              " 'whitman-leaves.txt']"
            ]
          },
          "metadata": {},
          "execution_count": 15
        }
      ]
    },
    {
      "cell_type": "code",
      "source": [
        "hamlet = nltk.corpus.gutenberg.words('shakespeare-hamlet.txt')\n",
        "hamlet"
      ],
      "metadata": {
        "colab": {
          "base_uri": "https://localhost:8080/"
        },
        "id": "BScCNEdMA6ni",
        "outputId": "fdfc3f3e-4090-45e2-ec78-c9cae5f90694"
      },
      "execution_count": 17,
      "outputs": [
        {
          "output_type": "execute_result",
          "data": {
            "text/plain": [
              "['[', 'The', 'Tragedie', 'of', 'Hamlet', 'by', ...]"
            ]
          },
          "metadata": {},
          "execution_count": 17
        }
      ]
    },
    {
      "cell_type": "code",
      "source": [
        "for word in hamlet[:500]:\n",
        "    print(word, sep = ' ', end = ' ')"
      ],
      "metadata": {
        "colab": {
          "base_uri": "https://localhost:8080/"
        },
        "id": "ttX21KKcBZxo",
        "outputId": "f2c93290-796f-4984-d060-03ad25565c4f"
      },
      "execution_count": 28,
      "outputs": [
        {
          "output_type": "stream",
          "name": "stdout",
          "text": [
            "[ The Tragedie of Hamlet by William Shakespeare 1599 ] Actus Primus . Scoena Prima . Enter Barnardo and Francisco two Centinels . Barnardo . Who ' s there ? Fran . Nay answer me : Stand & vnfold your selfe Bar . Long liue the King Fran . Barnardo ? Bar . He Fran . You come most carefully vpon your houre Bar . ' Tis now strook twelue , get thee to bed Francisco Fran . For this releefe much thankes : ' Tis bitter cold , And I am sicke at heart Barn . Haue you had quiet Guard ? Fran . Not a Mouse stirring Barn . Well , goodnight . If you do meet Horatio and Marcellus , the Riuals of my Watch , bid them make hast . Enter Horatio and Marcellus . Fran . I thinke I heare them . Stand : who ' s there ? Hor . Friends to this ground Mar . And Leige - men to the Dane Fran . Giue you good night Mar . O farwel honest Soldier , who hath relieu ' d you ? Fra . Barnardo ha ' s my place : giue you goodnight . Exit Fran . Mar . Holla Barnardo Bar . Say , what is Horatio there ? Hor . A peece of him Bar . Welcome Horatio , welcome good Marcellus Mar . What , ha ' s this thing appear ' d againe to night Bar . I haue seene nothing Mar . Horatio saies , ' tis but our Fantasie , And will not let beleefe take hold of him Touching this dreaded sight , twice seene of vs , Therefore I haue intreated him along With vs , to watch the minutes of this Night , That if againe this Apparition come , He may approue our eyes , and speake to it Hor . Tush , tush , ' twill not appeare Bar . Sit downe a - while , And let vs once againe assaile your eares , That are so fortified against our Story , What we two Nights haue seene Hor . Well , sit we downe , And let vs heare Barnardo speake of this Barn . Last night of all , When yond same Starre that ' s Westward from the Pole Had made his course t ' illume that part of Heauen Where now it burnes , Marcellus and my selfe , The Bell then beating one Mar . Peace , breake thee of : Enter the Ghost . Looke where it comes againe Barn . In the same figure , like the King that ' s dead Mar . Thou art a Scholler ; speake to it Horatio Barn . Lookes it not like the King ? Marke it Horatio Hora . Most like : It harrowes me with fear & wonder Barn . It would be spoke too Mar . Question it Horatio Hor . What art "
          ]
        }
      ]
    },
    {
      "cell_type": "code",
      "source": [
        "NLP = 'Natural Language Processing (NLP) is a field of artificial intelligence and computational linguistics that focuses on the interaction between computers and human language. It involves developing algorithms and models to enable computers to understand, interpret, and generate natural language. The history of NLP dates back to the 1950s when researchers started exploring machine translation and automatic language processing. The early years of NLP were primarily focused on rule-based systems, where linguistic rules and patterns were used to process and understand text. Today, NLP continues to evolve rapidly, driven by advancements in deep learning, the availability of vast amounts of textual data, and the exploration of novel techniques such as transfer learning and reinforcement learning. The field is focused on addressing challenges such as understanding context, handling ambiguity, and enabling machines to generate human-like text, opening up exciting possibilities for human-computer interaction and language understanding.'"
      ],
      "metadata": {
        "id": "AqCuGqCtBy-4"
      },
      "execution_count": 32,
      "outputs": []
    },
    {
      "cell_type": "code",
      "source": [
        "type(NLP)"
      ],
      "metadata": {
        "colab": {
          "base_uri": "https://localhost:8080/"
        },
        "id": "y95TXZZJEQyM",
        "outputId": "7cb2149a-232b-490d-c248-cf62c8e0d35d"
      },
      "execution_count": 33,
      "outputs": [
        {
          "output_type": "execute_result",
          "data": {
            "text/plain": [
              "str"
            ]
          },
          "metadata": {},
          "execution_count": 33
        }
      ]
    },
    {
      "cell_type": "code",
      "source": [
        "from nltk.tokenize import word_tokenize"
      ],
      "metadata": {
        "id": "vlWDt8-cERuY"
      },
      "execution_count": 34,
      "outputs": []
    },
    {
      "cell_type": "code",
      "source": [
        "nlp_tokens = word_tokenize(NLP)\n",
        "nlp_tokens"
      ],
      "metadata": {
        "colab": {
          "base_uri": "https://localhost:8080/"
        },
        "id": "NcIIrfi3ElM_",
        "outputId": "1a597051-51c4-473c-fb0d-f76f0ea73478"
      },
      "execution_count": 37,
      "outputs": [
        {
          "output_type": "execute_result",
          "data": {
            "text/plain": [
              "['Natural',\n",
              " 'Language',\n",
              " 'Processing',\n",
              " '(',\n",
              " 'NLP',\n",
              " ')',\n",
              " 'is',\n",
              " 'a',\n",
              " 'field',\n",
              " 'of',\n",
              " 'artificial',\n",
              " 'intelligence',\n",
              " 'and',\n",
              " 'computational',\n",
              " 'linguistics',\n",
              " 'that',\n",
              " 'focuses',\n",
              " 'on',\n",
              " 'the',\n",
              " 'interaction',\n",
              " 'between',\n",
              " 'computers',\n",
              " 'and',\n",
              " 'human',\n",
              " 'language',\n",
              " '.',\n",
              " 'It',\n",
              " 'involves',\n",
              " 'developing',\n",
              " 'algorithms',\n",
              " 'and',\n",
              " 'models',\n",
              " 'to',\n",
              " 'enable',\n",
              " 'computers',\n",
              " 'to',\n",
              " 'understand',\n",
              " ',',\n",
              " 'interpret',\n",
              " ',',\n",
              " 'and',\n",
              " 'generate',\n",
              " 'natural',\n",
              " 'language',\n",
              " '.',\n",
              " 'The',\n",
              " 'history',\n",
              " 'of',\n",
              " 'NLP',\n",
              " 'dates',\n",
              " 'back',\n",
              " 'to',\n",
              " 'the',\n",
              " '1950s',\n",
              " 'when',\n",
              " 'researchers',\n",
              " 'started',\n",
              " 'exploring',\n",
              " 'machine',\n",
              " 'translation',\n",
              " 'and',\n",
              " 'automatic',\n",
              " 'language',\n",
              " 'processing',\n",
              " '.',\n",
              " 'The',\n",
              " 'early',\n",
              " 'years',\n",
              " 'of',\n",
              " 'NLP',\n",
              " 'were',\n",
              " 'primarily',\n",
              " 'focused',\n",
              " 'on',\n",
              " 'rule-based',\n",
              " 'systems',\n",
              " ',',\n",
              " 'where',\n",
              " 'linguistic',\n",
              " 'rules',\n",
              " 'and',\n",
              " 'patterns',\n",
              " 'were',\n",
              " 'used',\n",
              " 'to',\n",
              " 'process',\n",
              " 'and',\n",
              " 'understand',\n",
              " 'text',\n",
              " '.',\n",
              " 'Today',\n",
              " ',',\n",
              " 'NLP',\n",
              " 'continues',\n",
              " 'to',\n",
              " 'evolve',\n",
              " 'rapidly',\n",
              " ',',\n",
              " 'driven',\n",
              " 'by',\n",
              " 'advancements',\n",
              " 'in',\n",
              " 'deep',\n",
              " 'learning',\n",
              " ',',\n",
              " 'the',\n",
              " 'availability',\n",
              " 'of',\n",
              " 'vast',\n",
              " 'amounts',\n",
              " 'of',\n",
              " 'textual',\n",
              " 'data',\n",
              " ',',\n",
              " 'and',\n",
              " 'the',\n",
              " 'exploration',\n",
              " 'of',\n",
              " 'novel',\n",
              " 'techniques',\n",
              " 'such',\n",
              " 'as',\n",
              " 'transfer',\n",
              " 'learning',\n",
              " 'and',\n",
              " 'reinforcement',\n",
              " 'learning',\n",
              " '.',\n",
              " 'The',\n",
              " 'field',\n",
              " 'is',\n",
              " 'focused',\n",
              " 'on',\n",
              " 'addressing',\n",
              " 'challenges',\n",
              " 'such',\n",
              " 'as',\n",
              " 'understanding',\n",
              " 'context',\n",
              " ',',\n",
              " 'handling',\n",
              " 'ambiguity',\n",
              " ',',\n",
              " 'and',\n",
              " 'enabling',\n",
              " 'machines',\n",
              " 'to',\n",
              " 'generate',\n",
              " 'human-like',\n",
              " 'text',\n",
              " ',',\n",
              " 'opening',\n",
              " 'up',\n",
              " 'exciting',\n",
              " 'possibilities',\n",
              " 'for',\n",
              " 'human-computer',\n",
              " 'interaction',\n",
              " 'and',\n",
              " 'language',\n",
              " 'understanding',\n",
              " '.']"
            ]
          },
          "metadata": {},
          "execution_count": 37
        }
      ]
    },
    {
      "cell_type": "code",
      "source": [
        "len(nlp_tokens)"
      ],
      "metadata": {
        "colab": {
          "base_uri": "https://localhost:8080/"
        },
        "id": "8d7QHuVuEv1C",
        "outputId": "655faa4b-f16f-42c2-89ec-93b2ad11fc67"
      },
      "execution_count": 38,
      "outputs": [
        {
          "output_type": "execute_result",
          "data": {
            "text/plain": [
              "162"
            ]
          },
          "metadata": {},
          "execution_count": 38
        }
      ]
    },
    {
      "cell_type": "code",
      "source": [
        "from nltk.probability import FreqDist\n",
        "fdist = FreqDist()"
      ],
      "metadata": {
        "id": "MGoU1H3cGbYF"
      },
      "execution_count": 39,
      "outputs": []
    },
    {
      "cell_type": "code",
      "source": [
        "for word in nlp_tokens:\n",
        "    fdist[word.lower()] += 1\n",
        "fdist"
      ],
      "metadata": {
        "colab": {
          "base_uri": "https://localhost:8080/"
        },
        "id": "KFdQVH6iHA3h",
        "outputId": "8bf93def-bf4e-4a4d-8714-2daff604c766"
      },
      "execution_count": 41,
      "outputs": [
        {
          "output_type": "execute_result",
          "data": {
            "text/plain": [
              "FreqDist({'and': 11, ',': 10, 'the': 7, 'of': 6, '.': 6, 'to': 6, 'language': 5, 'nlp': 4, 'on': 3, 'learning': 3, ...})"
            ]
          },
          "metadata": {},
          "execution_count": 41
        }
      ]
    },
    {
      "cell_type": "code",
      "source": [
        "fdist.most_common(5)"
      ],
      "metadata": {
        "colab": {
          "base_uri": "https://localhost:8080/"
        },
        "id": "d5smR4W9HDa2",
        "outputId": "9ea17963-9227-47e8-84cb-2f9668da08ef"
      },
      "execution_count": 42,
      "outputs": [
        {
          "output_type": "execute_result",
          "data": {
            "text/plain": [
              "[('and', 11), (',', 10), ('the', 7), ('of', 6), ('.', 6)]"
            ]
          },
          "metadata": {},
          "execution_count": 42
        }
      ]
    },
    {
      "cell_type": "code",
      "source": [
        "fdist.items()"
      ],
      "metadata": {
        "colab": {
          "base_uri": "https://localhost:8080/"
        },
        "id": "b63IG-0eHg5L",
        "outputId": "36c21799-0ce8-4c45-e485-e37f34123f87"
      },
      "execution_count": 43,
      "outputs": [
        {
          "output_type": "execute_result",
          "data": {
            "text/plain": [
              "dict_items([('natural', 2), ('language', 5), ('processing', 2), ('(', 1), ('nlp', 4), (')', 1), ('is', 2), ('a', 1), ('field', 2), ('of', 6), ('artificial', 1), ('intelligence', 1), ('and', 11), ('computational', 1), ('linguistics', 1), ('that', 1), ('focuses', 1), ('on', 3), ('the', 7), ('interaction', 2), ('between', 1), ('computers', 2), ('human', 1), ('.', 6), ('it', 1), ('involves', 1), ('developing', 1), ('algorithms', 1), ('models', 1), ('to', 6), ('enable', 1), ('understand', 2), (',', 10), ('interpret', 1), ('generate', 2), ('history', 1), ('dates', 1), ('back', 1), ('1950s', 1), ('when', 1), ('researchers', 1), ('started', 1), ('exploring', 1), ('machine', 1), ('translation', 1), ('automatic', 1), ('early', 1), ('years', 1), ('were', 2), ('primarily', 1), ('focused', 2), ('rule-based', 1), ('systems', 1), ('where', 1), ('linguistic', 1), ('rules', 1), ('patterns', 1), ('used', 1), ('process', 1), ('text', 2), ('today', 1), ('continues', 1), ('evolve', 1), ('rapidly', 1), ('driven', 1), ('by', 1), ('advancements', 1), ('in', 1), ('deep', 1), ('learning', 3), ('availability', 1), ('vast', 1), ('amounts', 1), ('textual', 1), ('data', 1), ('exploration', 1), ('novel', 1), ('techniques', 1), ('such', 2), ('as', 2), ('transfer', 1), ('reinforcement', 1), ('addressing', 1), ('challenges', 1), ('understanding', 2), ('context', 1), ('handling', 1), ('ambiguity', 1), ('enabling', 1), ('machines', 1), ('human-like', 1), ('opening', 1), ('up', 1), ('exciting', 1), ('possibilities', 1), ('for', 1), ('human-computer', 1)])"
            ]
          },
          "metadata": {},
          "execution_count": 43
        }
      ]
    },
    {
      "cell_type": "code",
      "source": [],
      "metadata": {
        "id": "B5teFOdhHl8Z"
      },
      "execution_count": null,
      "outputs": []
    }
  ]
}