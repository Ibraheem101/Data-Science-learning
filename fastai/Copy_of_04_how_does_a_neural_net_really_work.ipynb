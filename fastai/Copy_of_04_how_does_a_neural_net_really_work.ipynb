{
  "metadata": {
    "kernelspec": {
      "language": "python",
      "display_name": "Python 3",
      "name": "python3"
    },
    "language_info": {
      "pygments_lexer": "ipython3",
      "nbconvert_exporter": "python",
      "version": "3.6.4",
      "file_extension": ".py",
      "codemirror_mode": {
        "name": "ipython",
        "version": 3
      },
      "name": "python",
      "mimetype": "text/x-python"
    },
    "colab": {
      "provenance": [],
      "include_colab_link": true
    },
    "widgets": {
      "application/vnd.jupyter.widget-state+json": {
        "8ad031fc597b4f0a85e907263f3995c9": {
          "model_module": "@jupyter-widgets/controls",
          "model_name": "VBoxModel",
          "model_module_version": "1.5.0",
          "state": {
            "_dom_classes": [
              "widget-interact"
            ],
            "_model_module": "@jupyter-widgets/controls",
            "_model_module_version": "1.5.0",
            "_model_name": "VBoxModel",
            "_view_count": null,
            "_view_module": "@jupyter-widgets/controls",
            "_view_module_version": "1.5.0",
            "_view_name": "VBoxView",
            "box_style": "",
            "children": [
              "IPY_MODEL_3d403c50d16641eebcad1010f2ca72ad",
              "IPY_MODEL_d8036db7f89a42ba90cd0c8b8ad382d6",
              "IPY_MODEL_4777e06d870d4f97841379ae1b8c6a74",
              "IPY_MODEL_e17c33c4d8714b37a2522e5bd6a4ba40"
            ],
            "layout": "IPY_MODEL_c93d3eae7b904b8483da1e53907fb778"
          }
        },
        "3d403c50d16641eebcad1010f2ca72ad": {
          "model_module": "@jupyter-widgets/controls",
          "model_name": "FloatSliderModel",
          "model_module_version": "1.5.0",
          "state": {
            "_dom_classes": [],
            "_model_module": "@jupyter-widgets/controls",
            "_model_module_version": "1.5.0",
            "_model_name": "FloatSliderModel",
            "_view_count": null,
            "_view_module": "@jupyter-widgets/controls",
            "_view_module_version": "1.5.0",
            "_view_name": "FloatSliderView",
            "continuous_update": true,
            "description": "a",
            "description_tooltip": null,
            "disabled": false,
            "layout": "IPY_MODEL_8987f1200f57402a912296232e0a5a15",
            "max": 3.3000000000000003,
            "min": -1.1,
            "orientation": "horizontal",
            "readout": true,
            "readout_format": ".2f",
            "step": 0.1,
            "style": "IPY_MODEL_9fa7ab674b734ee5aac5d68c36b2ebbb",
            "value": 2.5
          }
        },
        "d8036db7f89a42ba90cd0c8b8ad382d6": {
          "model_module": "@jupyter-widgets/controls",
          "model_name": "FloatSliderModel",
          "model_module_version": "1.5.0",
          "state": {
            "_dom_classes": [],
            "_model_module": "@jupyter-widgets/controls",
            "_model_module_version": "1.5.0",
            "_model_name": "FloatSliderModel",
            "_view_count": null,
            "_view_module": "@jupyter-widgets/controls",
            "_view_module_version": "1.5.0",
            "_view_name": "FloatSliderView",
            "continuous_update": true,
            "description": "b",
            "description_tooltip": null,
            "disabled": false,
            "layout": "IPY_MODEL_1b6e9927726746b5b1c90975b821dcdb",
            "max": 3.3000000000000003,
            "min": -1.1,
            "orientation": "horizontal",
            "readout": true,
            "readout_format": ".2f",
            "step": 0.1,
            "style": "IPY_MODEL_f5cddc837ff1482e83210a209cb6927c",
            "value": 1.2
          }
        },
        "4777e06d870d4f97841379ae1b8c6a74": {
          "model_module": "@jupyter-widgets/controls",
          "model_name": "FloatSliderModel",
          "model_module_version": "1.5.0",
          "state": {
            "_dom_classes": [],
            "_model_module": "@jupyter-widgets/controls",
            "_model_module_version": "1.5.0",
            "_model_name": "FloatSliderModel",
            "_view_count": null,
            "_view_module": "@jupyter-widgets/controls",
            "_view_module_version": "1.5.0",
            "_view_name": "FloatSliderView",
            "continuous_update": true,
            "description": "c",
            "description_tooltip": null,
            "disabled": false,
            "layout": "IPY_MODEL_f2484faa9ea0433cbffc0d36530522df",
            "max": 3.3000000000000003,
            "min": -1.1,
            "orientation": "horizontal",
            "readout": true,
            "readout_format": ".2f",
            "step": 0.1,
            "style": "IPY_MODEL_362de71e5f2143bf8c9e674def78069e",
            "value": -1
          }
        },
        "e17c33c4d8714b37a2522e5bd6a4ba40": {
          "model_module": "@jupyter-widgets/output",
          "model_name": "OutputModel",
          "model_module_version": "1.0.0",
          "state": {
            "_dom_classes": [],
            "_model_module": "@jupyter-widgets/output",
            "_model_module_version": "1.0.0",
            "_model_name": "OutputModel",
            "_view_count": null,
            "_view_module": "@jupyter-widgets/output",
            "_view_module_version": "1.0.0",
            "_view_name": "OutputView",
            "layout": "IPY_MODEL_40f131f5b5234b679be2815c8966db1a",
            "msg_id": "",
            "outputs": [
              {
                "output_type": "display_data",
                "data": {
                  "text/plain": "<Figure size 576x432 with 1 Axes>",
                  "image/png": "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\n"
                },
                "metadata": {}
              }
            ]
          }
        },
        "c93d3eae7b904b8483da1e53907fb778": {
          "model_module": "@jupyter-widgets/base",
          "model_name": "LayoutModel",
          "model_module_version": "1.2.0",
          "state": {
            "_model_module": "@jupyter-widgets/base",
            "_model_module_version": "1.2.0",
            "_model_name": "LayoutModel",
            "_view_count": null,
            "_view_module": "@jupyter-widgets/base",
            "_view_module_version": "1.2.0",
            "_view_name": "LayoutView",
            "align_content": null,
            "align_items": null,
            "align_self": null,
            "border": null,
            "bottom": null,
            "display": null,
            "flex": null,
            "flex_flow": null,
            "grid_area": null,
            "grid_auto_columns": null,
            "grid_auto_flow": null,
            "grid_auto_rows": null,
            "grid_column": null,
            "grid_gap": null,
            "grid_row": null,
            "grid_template_areas": null,
            "grid_template_columns": null,
            "grid_template_rows": null,
            "height": null,
            "justify_content": null,
            "justify_items": null,
            "left": null,
            "margin": null,
            "max_height": null,
            "max_width": null,
            "min_height": null,
            "min_width": null,
            "object_fit": null,
            "object_position": null,
            "order": null,
            "overflow": null,
            "overflow_x": null,
            "overflow_y": null,
            "padding": null,
            "right": null,
            "top": null,
            "visibility": null,
            "width": null
          }
        },
        "8987f1200f57402a912296232e0a5a15": {
          "model_module": "@jupyter-widgets/base",
          "model_name": "LayoutModel",
          "model_module_version": "1.2.0",
          "state": {
            "_model_module": "@jupyter-widgets/base",
            "_model_module_version": "1.2.0",
            "_model_name": "LayoutModel",
            "_view_count": null,
            "_view_module": "@jupyter-widgets/base",
            "_view_module_version": "1.2.0",
            "_view_name": "LayoutView",
            "align_content": null,
            "align_items": null,
            "align_self": null,
            "border": null,
            "bottom": null,
            "display": null,
            "flex": null,
            "flex_flow": null,
            "grid_area": null,
            "grid_auto_columns": null,
            "grid_auto_flow": null,
            "grid_auto_rows": null,
            "grid_column": null,
            "grid_gap": null,
            "grid_row": null,
            "grid_template_areas": null,
            "grid_template_columns": null,
            "grid_template_rows": null,
            "height": null,
            "justify_content": null,
            "justify_items": null,
            "left": null,
            "margin": null,
            "max_height": null,
            "max_width": null,
            "min_height": null,
            "min_width": null,
            "object_fit": null,
            "object_position": null,
            "order": null,
            "overflow": null,
            "overflow_x": null,
            "overflow_y": null,
            "padding": null,
            "right": null,
            "top": null,
            "visibility": null,
            "width": null
          }
        },
        "9fa7ab674b734ee5aac5d68c36b2ebbb": {
          "model_module": "@jupyter-widgets/controls",
          "model_name": "SliderStyleModel",
          "model_module_version": "1.5.0",
          "state": {
            "_model_module": "@jupyter-widgets/controls",
            "_model_module_version": "1.5.0",
            "_model_name": "SliderStyleModel",
            "_view_count": null,
            "_view_module": "@jupyter-widgets/base",
            "_view_module_version": "1.2.0",
            "_view_name": "StyleView",
            "description_width": "",
            "handle_color": null
          }
        },
        "1b6e9927726746b5b1c90975b821dcdb": {
          "model_module": "@jupyter-widgets/base",
          "model_name": "LayoutModel",
          "model_module_version": "1.2.0",
          "state": {
            "_model_module": "@jupyter-widgets/base",
            "_model_module_version": "1.2.0",
            "_model_name": "LayoutModel",
            "_view_count": null,
            "_view_module": "@jupyter-widgets/base",
            "_view_module_version": "1.2.0",
            "_view_name": "LayoutView",
            "align_content": null,
            "align_items": null,
            "align_self": null,
            "border": null,
            "bottom": null,
            "display": null,
            "flex": null,
            "flex_flow": null,
            "grid_area": null,
            "grid_auto_columns": null,
            "grid_auto_flow": null,
            "grid_auto_rows": null,
            "grid_column": null,
            "grid_gap": null,
            "grid_row": null,
            "grid_template_areas": null,
            "grid_template_columns": null,
            "grid_template_rows": null,
            "height": null,
            "justify_content": null,
            "justify_items": null,
            "left": null,
            "margin": null,
            "max_height": null,
            "max_width": null,
            "min_height": null,
            "min_width": null,
            "object_fit": null,
            "object_position": null,
            "order": null,
            "overflow": null,
            "overflow_x": null,
            "overflow_y": null,
            "padding": null,
            "right": null,
            "top": null,
            "visibility": null,
            "width": null
          }
        },
        "f5cddc837ff1482e83210a209cb6927c": {
          "model_module": "@jupyter-widgets/controls",
          "model_name": "SliderStyleModel",
          "model_module_version": "1.5.0",
          "state": {
            "_model_module": "@jupyter-widgets/controls",
            "_model_module_version": "1.5.0",
            "_model_name": "SliderStyleModel",
            "_view_count": null,
            "_view_module": "@jupyter-widgets/base",
            "_view_module_version": "1.2.0",
            "_view_name": "StyleView",
            "description_width": "",
            "handle_color": null
          }
        },
        "f2484faa9ea0433cbffc0d36530522df": {
          "model_module": "@jupyter-widgets/base",
          "model_name": "LayoutModel",
          "model_module_version": "1.2.0",
          "state": {
            "_model_module": "@jupyter-widgets/base",
            "_model_module_version": "1.2.0",
            "_model_name": "LayoutModel",
            "_view_count": null,
            "_view_module": "@jupyter-widgets/base",
            "_view_module_version": "1.2.0",
            "_view_name": "LayoutView",
            "align_content": null,
            "align_items": null,
            "align_self": null,
            "border": null,
            "bottom": null,
            "display": null,
            "flex": null,
            "flex_flow": null,
            "grid_area": null,
            "grid_auto_columns": null,
            "grid_auto_flow": null,
            "grid_auto_rows": null,
            "grid_column": null,
            "grid_gap": null,
            "grid_row": null,
            "grid_template_areas": null,
            "grid_template_columns": null,
            "grid_template_rows": null,
            "height": null,
            "justify_content": null,
            "justify_items": null,
            "left": null,
            "margin": null,
            "max_height": null,
            "max_width": null,
            "min_height": null,
            "min_width": null,
            "object_fit": null,
            "object_position": null,
            "order": null,
            "overflow": null,
            "overflow_x": null,
            "overflow_y": null,
            "padding": null,
            "right": null,
            "top": null,
            "visibility": null,
            "width": null
          }
        },
        "362de71e5f2143bf8c9e674def78069e": {
          "model_module": "@jupyter-widgets/controls",
          "model_name": "SliderStyleModel",
          "model_module_version": "1.5.0",
          "state": {
            "_model_module": "@jupyter-widgets/controls",
            "_model_module_version": "1.5.0",
            "_model_name": "SliderStyleModel",
            "_view_count": null,
            "_view_module": "@jupyter-widgets/base",
            "_view_module_version": "1.2.0",
            "_view_name": "StyleView",
            "description_width": "",
            "handle_color": null
          }
        },
        "40f131f5b5234b679be2815c8966db1a": {
          "model_module": "@jupyter-widgets/base",
          "model_name": "LayoutModel",
          "model_module_version": "1.2.0",
          "state": {
            "_model_module": "@jupyter-widgets/base",
            "_model_module_version": "1.2.0",
            "_model_name": "LayoutModel",
            "_view_count": null,
            "_view_module": "@jupyter-widgets/base",
            "_view_module_version": "1.2.0",
            "_view_name": "LayoutView",
            "align_content": null,
            "align_items": null,
            "align_self": null,
            "border": null,
            "bottom": null,
            "display": null,
            "flex": null,
            "flex_flow": null,
            "grid_area": null,
            "grid_auto_columns": null,
            "grid_auto_flow": null,
            "grid_auto_rows": null,
            "grid_column": null,
            "grid_gap": null,
            "grid_row": null,
            "grid_template_areas": null,
            "grid_template_columns": null,
            "grid_template_rows": null,
            "height": null,
            "justify_content": null,
            "justify_items": null,
            "left": null,
            "margin": null,
            "max_height": null,
            "max_width": null,
            "min_height": null,
            "min_width": null,
            "object_fit": null,
            "object_position": null,
            "order": null,
            "overflow": null,
            "overflow_x": null,
            "overflow_y": null,
            "padding": null,
            "right": null,
            "top": null,
            "visibility": null,
            "width": null
          }
        },
        "6e034cec38b046d8bc840fb1b1940e3c": {
          "model_module": "@jupyter-widgets/controls",
          "model_name": "VBoxModel",
          "model_module_version": "1.5.0",
          "state": {
            "_dom_classes": [
              "widget-interact"
            ],
            "_model_module": "@jupyter-widgets/controls",
            "_model_module_version": "1.5.0",
            "_model_name": "VBoxModel",
            "_view_count": null,
            "_view_module": "@jupyter-widgets/controls",
            "_view_module_version": "1.5.0",
            "_view_name": "VBoxView",
            "box_style": "",
            "children": [
              "IPY_MODEL_db1db1c9d0c04f2db9b0a233ff6949b4",
              "IPY_MODEL_0f3faf1011f04920be4a757ac2b40ccb",
              "IPY_MODEL_ce6f0fc683114fb2911dfe19d27b6cc9",
              "IPY_MODEL_2a722e81592047ffbbf72fc304137091"
            ],
            "layout": "IPY_MODEL_eb0475537a0f42678579015bab5e72ab"
          }
        },
        "db1db1c9d0c04f2db9b0a233ff6949b4": {
          "model_module": "@jupyter-widgets/controls",
          "model_name": "FloatSliderModel",
          "model_module_version": "1.5.0",
          "state": {
            "_dom_classes": [],
            "_model_module": "@jupyter-widgets/controls",
            "_model_module_version": "1.5.0",
            "_model_name": "FloatSliderModel",
            "_view_count": null,
            "_view_module": "@jupyter-widgets/controls",
            "_view_module_version": "1.5.0",
            "_view_name": "FloatSliderView",
            "continuous_update": true,
            "description": "a",
            "description_tooltip": null,
            "disabled": false,
            "layout": "IPY_MODEL_2539fe578b1d492981bfe5166d32f371",
            "max": 3.3000000000000003,
            "min": -1.1,
            "orientation": "horizontal",
            "readout": true,
            "readout_format": ".2f",
            "step": 0.1,
            "style": "IPY_MODEL_bf9b192fb67146d8a811fe2fd62c26d3",
            "value": 2
          }
        },
        "0f3faf1011f04920be4a757ac2b40ccb": {
          "model_module": "@jupyter-widgets/controls",
          "model_name": "FloatSliderModel",
          "model_module_version": "1.5.0",
          "state": {
            "_dom_classes": [],
            "_model_module": "@jupyter-widgets/controls",
            "_model_module_version": "1.5.0",
            "_model_name": "FloatSliderModel",
            "_view_count": null,
            "_view_module": "@jupyter-widgets/controls",
            "_view_module_version": "1.5.0",
            "_view_name": "FloatSliderView",
            "continuous_update": true,
            "description": "b",
            "description_tooltip": null,
            "disabled": false,
            "layout": "IPY_MODEL_0027ae0ac0094cddade20af2312544ee",
            "max": 3.3000000000000003,
            "min": -1.1,
            "orientation": "horizontal",
            "readout": true,
            "readout_format": ".2f",
            "step": 0.1,
            "style": "IPY_MODEL_f8aab79ea5e34d6badc81060a948a163",
            "value": 1.1
          }
        },
        "ce6f0fc683114fb2911dfe19d27b6cc9": {
          "model_module": "@jupyter-widgets/controls",
          "model_name": "FloatSliderModel",
          "model_module_version": "1.5.0",
          "state": {
            "_dom_classes": [],
            "_model_module": "@jupyter-widgets/controls",
            "_model_module_version": "1.5.0",
            "_model_name": "FloatSliderModel",
            "_view_count": null,
            "_view_module": "@jupyter-widgets/controls",
            "_view_module_version": "1.5.0",
            "_view_name": "FloatSliderView",
            "continuous_update": true,
            "description": "c",
            "description_tooltip": null,
            "disabled": false,
            "layout": "IPY_MODEL_0cee746b5cad406e9c339d688c12b5df",
            "max": 3.3000000000000003,
            "min": -1.1,
            "orientation": "horizontal",
            "readout": true,
            "readout_format": ".2f",
            "step": 0.1,
            "style": "IPY_MODEL_225d785615c7486fa1e4d6393b609f23",
            "value": 0.9
          }
        },
        "2a722e81592047ffbbf72fc304137091": {
          "model_module": "@jupyter-widgets/output",
          "model_name": "OutputModel",
          "model_module_version": "1.0.0",
          "state": {
            "_dom_classes": [],
            "_model_module": "@jupyter-widgets/output",
            "_model_module_version": "1.0.0",
            "_model_name": "OutputModel",
            "_view_count": null,
            "_view_module": "@jupyter-widgets/output",
            "_view_module_version": "1.0.0",
            "_view_name": "OutputView",
            "layout": "IPY_MODEL_0f30922a1cad4e0ba2034090be3e7499",
            "msg_id": "",
            "outputs": [
              {
                "output_type": "display_data",
                "data": {
                  "text/plain": "<Figure size 576x432 with 1 Axes>",
                  "image/png": "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\n"
                },
                "metadata": {}
              }
            ]
          }
        },
        "eb0475537a0f42678579015bab5e72ab": {
          "model_module": "@jupyter-widgets/base",
          "model_name": "LayoutModel",
          "model_module_version": "1.2.0",
          "state": {
            "_model_module": "@jupyter-widgets/base",
            "_model_module_version": "1.2.0",
            "_model_name": "LayoutModel",
            "_view_count": null,
            "_view_module": "@jupyter-widgets/base",
            "_view_module_version": "1.2.0",
            "_view_name": "LayoutView",
            "align_content": null,
            "align_items": null,
            "align_self": null,
            "border": null,
            "bottom": null,
            "display": null,
            "flex": null,
            "flex_flow": null,
            "grid_area": null,
            "grid_auto_columns": null,
            "grid_auto_flow": null,
            "grid_auto_rows": null,
            "grid_column": null,
            "grid_gap": null,
            "grid_row": null,
            "grid_template_areas": null,
            "grid_template_columns": null,
            "grid_template_rows": null,
            "height": null,
            "justify_content": null,
            "justify_items": null,
            "left": null,
            "margin": null,
            "max_height": null,
            "max_width": null,
            "min_height": null,
            "min_width": null,
            "object_fit": null,
            "object_position": null,
            "order": null,
            "overflow": null,
            "overflow_x": null,
            "overflow_y": null,
            "padding": null,
            "right": null,
            "top": null,
            "visibility": null,
            "width": null
          }
        },
        "2539fe578b1d492981bfe5166d32f371": {
          "model_module": "@jupyter-widgets/base",
          "model_name": "LayoutModel",
          "model_module_version": "1.2.0",
          "state": {
            "_model_module": "@jupyter-widgets/base",
            "_model_module_version": "1.2.0",
            "_model_name": "LayoutModel",
            "_view_count": null,
            "_view_module": "@jupyter-widgets/base",
            "_view_module_version": "1.2.0",
            "_view_name": "LayoutView",
            "align_content": null,
            "align_items": null,
            "align_self": null,
            "border": null,
            "bottom": null,
            "display": null,
            "flex": null,
            "flex_flow": null,
            "grid_area": null,
            "grid_auto_columns": null,
            "grid_auto_flow": null,
            "grid_auto_rows": null,
            "grid_column": null,
            "grid_gap": null,
            "grid_row": null,
            "grid_template_areas": null,
            "grid_template_columns": null,
            "grid_template_rows": null,
            "height": null,
            "justify_content": null,
            "justify_items": null,
            "left": null,
            "margin": null,
            "max_height": null,
            "max_width": null,
            "min_height": null,
            "min_width": null,
            "object_fit": null,
            "object_position": null,
            "order": null,
            "overflow": null,
            "overflow_x": null,
            "overflow_y": null,
            "padding": null,
            "right": null,
            "top": null,
            "visibility": null,
            "width": null
          }
        },
        "bf9b192fb67146d8a811fe2fd62c26d3": {
          "model_module": "@jupyter-widgets/controls",
          "model_name": "SliderStyleModel",
          "model_module_version": "1.5.0",
          "state": {
            "_model_module": "@jupyter-widgets/controls",
            "_model_module_version": "1.5.0",
            "_model_name": "SliderStyleModel",
            "_view_count": null,
            "_view_module": "@jupyter-widgets/base",
            "_view_module_version": "1.2.0",
            "_view_name": "StyleView",
            "description_width": "",
            "handle_color": null
          }
        },
        "0027ae0ac0094cddade20af2312544ee": {
          "model_module": "@jupyter-widgets/base",
          "model_name": "LayoutModel",
          "model_module_version": "1.2.0",
          "state": {
            "_model_module": "@jupyter-widgets/base",
            "_model_module_version": "1.2.0",
            "_model_name": "LayoutModel",
            "_view_count": null,
            "_view_module": "@jupyter-widgets/base",
            "_view_module_version": "1.2.0",
            "_view_name": "LayoutView",
            "align_content": null,
            "align_items": null,
            "align_self": null,
            "border": null,
            "bottom": null,
            "display": null,
            "flex": null,
            "flex_flow": null,
            "grid_area": null,
            "grid_auto_columns": null,
            "grid_auto_flow": null,
            "grid_auto_rows": null,
            "grid_column": null,
            "grid_gap": null,
            "grid_row": null,
            "grid_template_areas": null,
            "grid_template_columns": null,
            "grid_template_rows": null,
            "height": null,
            "justify_content": null,
            "justify_items": null,
            "left": null,
            "margin": null,
            "max_height": null,
            "max_width": null,
            "min_height": null,
            "min_width": null,
            "object_fit": null,
            "object_position": null,
            "order": null,
            "overflow": null,
            "overflow_x": null,
            "overflow_y": null,
            "padding": null,
            "right": null,
            "top": null,
            "visibility": null,
            "width": null
          }
        },
        "f8aab79ea5e34d6badc81060a948a163": {
          "model_module": "@jupyter-widgets/controls",
          "model_name": "SliderStyleModel",
          "model_module_version": "1.5.0",
          "state": {
            "_model_module": "@jupyter-widgets/controls",
            "_model_module_version": "1.5.0",
            "_model_name": "SliderStyleModel",
            "_view_count": null,
            "_view_module": "@jupyter-widgets/base",
            "_view_module_version": "1.2.0",
            "_view_name": "StyleView",
            "description_width": "",
            "handle_color": null
          }
        },
        "0cee746b5cad406e9c339d688c12b5df": {
          "model_module": "@jupyter-widgets/base",
          "model_name": "LayoutModel",
          "model_module_version": "1.2.0",
          "state": {
            "_model_module": "@jupyter-widgets/base",
            "_model_module_version": "1.2.0",
            "_model_name": "LayoutModel",
            "_view_count": null,
            "_view_module": "@jupyter-widgets/base",
            "_view_module_version": "1.2.0",
            "_view_name": "LayoutView",
            "align_content": null,
            "align_items": null,
            "align_self": null,
            "border": null,
            "bottom": null,
            "display": null,
            "flex": null,
            "flex_flow": null,
            "grid_area": null,
            "grid_auto_columns": null,
            "grid_auto_flow": null,
            "grid_auto_rows": null,
            "grid_column": null,
            "grid_gap": null,
            "grid_row": null,
            "grid_template_areas": null,
            "grid_template_columns": null,
            "grid_template_rows": null,
            "height": null,
            "justify_content": null,
            "justify_items": null,
            "left": null,
            "margin": null,
            "max_height": null,
            "max_width": null,
            "min_height": null,
            "min_width": null,
            "object_fit": null,
            "object_position": null,
            "order": null,
            "overflow": null,
            "overflow_x": null,
            "overflow_y": null,
            "padding": null,
            "right": null,
            "top": null,
            "visibility": null,
            "width": null
          }
        },
        "225d785615c7486fa1e4d6393b609f23": {
          "model_module": "@jupyter-widgets/controls",
          "model_name": "SliderStyleModel",
          "model_module_version": "1.5.0",
          "state": {
            "_model_module": "@jupyter-widgets/controls",
            "_model_module_version": "1.5.0",
            "_model_name": "SliderStyleModel",
            "_view_count": null,
            "_view_module": "@jupyter-widgets/base",
            "_view_module_version": "1.2.0",
            "_view_name": "StyleView",
            "description_width": "",
            "handle_color": null
          }
        },
        "0f30922a1cad4e0ba2034090be3e7499": {
          "model_module": "@jupyter-widgets/base",
          "model_name": "LayoutModel",
          "model_module_version": "1.2.0",
          "state": {
            "_model_module": "@jupyter-widgets/base",
            "_model_module_version": "1.2.0",
            "_model_name": "LayoutModel",
            "_view_count": null,
            "_view_module": "@jupyter-widgets/base",
            "_view_module_version": "1.2.0",
            "_view_name": "LayoutView",
            "align_content": null,
            "align_items": null,
            "align_self": null,
            "border": null,
            "bottom": null,
            "display": null,
            "flex": null,
            "flex_flow": null,
            "grid_area": null,
            "grid_auto_columns": null,
            "grid_auto_flow": null,
            "grid_auto_rows": null,
            "grid_column": null,
            "grid_gap": null,
            "grid_row": null,
            "grid_template_areas": null,
            "grid_template_columns": null,
            "grid_template_rows": null,
            "height": null,
            "justify_content": null,
            "justify_items": null,
            "left": null,
            "margin": null,
            "max_height": null,
            "max_width": null,
            "min_height": null,
            "min_width": null,
            "object_fit": null,
            "object_position": null,
            "order": null,
            "overflow": null,
            "overflow_x": null,
            "overflow_y": null,
            "padding": null,
            "right": null,
            "top": null,
            "visibility": null,
            "width": null
          }
        },
        "a6697e6005a14312af2c428e4b0cf577": {
          "model_module": "@jupyter-widgets/controls",
          "model_name": "VBoxModel",
          "model_module_version": "1.5.0",
          "state": {
            "_dom_classes": [
              "widget-interact"
            ],
            "_model_module": "@jupyter-widgets/controls",
            "_model_module_version": "1.5.0",
            "_model_name": "VBoxModel",
            "_view_count": null,
            "_view_module": "@jupyter-widgets/controls",
            "_view_module_version": "1.5.0",
            "_view_name": "VBoxView",
            "box_style": "",
            "children": [
              "IPY_MODEL_32fdd14947e649209e75db77e24e277b",
              "IPY_MODEL_0879538fa1b844f4ba61946462094bd7",
              "IPY_MODEL_9e55fbab045b48c584cea306c135da1c"
            ],
            "layout": "IPY_MODEL_fea1a6c9732f4701a69865a582756b1a"
          }
        },
        "32fdd14947e649209e75db77e24e277b": {
          "model_module": "@jupyter-widgets/controls",
          "model_name": "FloatSliderModel",
          "model_module_version": "1.5.0",
          "state": {
            "_dom_classes": [],
            "_model_module": "@jupyter-widgets/controls",
            "_model_module_version": "1.5.0",
            "_model_name": "FloatSliderModel",
            "_view_count": null,
            "_view_module": "@jupyter-widgets/controls",
            "_view_module_version": "1.5.0",
            "_view_name": "FloatSliderView",
            "continuous_update": true,
            "description": "m",
            "description_tooltip": null,
            "disabled": false,
            "layout": "IPY_MODEL_30de3bb856584e5fa59a25429a52e3e8",
            "max": 4.5,
            "min": -1.5,
            "orientation": "horizontal",
            "readout": true,
            "readout_format": ".2f",
            "step": 0.1,
            "style": "IPY_MODEL_981542cd431b4d8b9a07ff214477c9bc",
            "value": 1.5
          }
        },
        "0879538fa1b844f4ba61946462094bd7": {
          "model_module": "@jupyter-widgets/controls",
          "model_name": "FloatSliderModel",
          "model_module_version": "1.5.0",
          "state": {
            "_dom_classes": [],
            "_model_module": "@jupyter-widgets/controls",
            "_model_module_version": "1.5.0",
            "_model_name": "FloatSliderModel",
            "_view_count": null,
            "_view_module": "@jupyter-widgets/controls",
            "_view_module_version": "1.5.0",
            "_view_name": "FloatSliderView",
            "continuous_update": true,
            "description": "b",
            "description_tooltip": null,
            "disabled": false,
            "layout": "IPY_MODEL_7b2306c6af1046b8b7e5024fd7877849",
            "max": 4.5,
            "min": -1.5,
            "orientation": "horizontal",
            "readout": true,
            "readout_format": ".2f",
            "step": 0.1,
            "style": "IPY_MODEL_3f9b694c75d94058b52af08edfa64698",
            "value": 1.5
          }
        },
        "9e55fbab045b48c584cea306c135da1c": {
          "model_module": "@jupyter-widgets/output",
          "model_name": "OutputModel",
          "model_module_version": "1.0.0",
          "state": {
            "_dom_classes": [],
            "_model_module": "@jupyter-widgets/output",
            "_model_module_version": "1.0.0",
            "_model_name": "OutputModel",
            "_view_count": null,
            "_view_module": "@jupyter-widgets/output",
            "_view_module_version": "1.0.0",
            "_view_name": "OutputView",
            "layout": "IPY_MODEL_ae5b6a44485a4b4fb9c304939f8ddf57",
            "msg_id": "",
            "outputs": []
          }
        },
        "fea1a6c9732f4701a69865a582756b1a": {
          "model_module": "@jupyter-widgets/base",
          "model_name": "LayoutModel",
          "model_module_version": "1.2.0",
          "state": {
            "_model_module": "@jupyter-widgets/base",
            "_model_module_version": "1.2.0",
            "_model_name": "LayoutModel",
            "_view_count": null,
            "_view_module": "@jupyter-widgets/base",
            "_view_module_version": "1.2.0",
            "_view_name": "LayoutView",
            "align_content": null,
            "align_items": null,
            "align_self": null,
            "border": null,
            "bottom": null,
            "display": null,
            "flex": null,
            "flex_flow": null,
            "grid_area": null,
            "grid_auto_columns": null,
            "grid_auto_flow": null,
            "grid_auto_rows": null,
            "grid_column": null,
            "grid_gap": null,
            "grid_row": null,
            "grid_template_areas": null,
            "grid_template_columns": null,
            "grid_template_rows": null,
            "height": null,
            "justify_content": null,
            "justify_items": null,
            "left": null,
            "margin": null,
            "max_height": null,
            "max_width": null,
            "min_height": null,
            "min_width": null,
            "object_fit": null,
            "object_position": null,
            "order": null,
            "overflow": null,
            "overflow_x": null,
            "overflow_y": null,
            "padding": null,
            "right": null,
            "top": null,
            "visibility": null,
            "width": null
          }
        },
        "30de3bb856584e5fa59a25429a52e3e8": {
          "model_module": "@jupyter-widgets/base",
          "model_name": "LayoutModel",
          "model_module_version": "1.2.0",
          "state": {
            "_model_module": "@jupyter-widgets/base",
            "_model_module_version": "1.2.0",
            "_model_name": "LayoutModel",
            "_view_count": null,
            "_view_module": "@jupyter-widgets/base",
            "_view_module_version": "1.2.0",
            "_view_name": "LayoutView",
            "align_content": null,
            "align_items": null,
            "align_self": null,
            "border": null,
            "bottom": null,
            "display": null,
            "flex": null,
            "flex_flow": null,
            "grid_area": null,
            "grid_auto_columns": null,
            "grid_auto_flow": null,
            "grid_auto_rows": null,
            "grid_column": null,
            "grid_gap": null,
            "grid_row": null,
            "grid_template_areas": null,
            "grid_template_columns": null,
            "grid_template_rows": null,
            "height": null,
            "justify_content": null,
            "justify_items": null,
            "left": null,
            "margin": null,
            "max_height": null,
            "max_width": null,
            "min_height": null,
            "min_width": null,
            "object_fit": null,
            "object_position": null,
            "order": null,
            "overflow": null,
            "overflow_x": null,
            "overflow_y": null,
            "padding": null,
            "right": null,
            "top": null,
            "visibility": null,
            "width": null
          }
        },
        "981542cd431b4d8b9a07ff214477c9bc": {
          "model_module": "@jupyter-widgets/controls",
          "model_name": "SliderStyleModel",
          "model_module_version": "1.5.0",
          "state": {
            "_model_module": "@jupyter-widgets/controls",
            "_model_module_version": "1.5.0",
            "_model_name": "SliderStyleModel",
            "_view_count": null,
            "_view_module": "@jupyter-widgets/base",
            "_view_module_version": "1.2.0",
            "_view_name": "StyleView",
            "description_width": "",
            "handle_color": null
          }
        },
        "7b2306c6af1046b8b7e5024fd7877849": {
          "model_module": "@jupyter-widgets/base",
          "model_name": "LayoutModel",
          "model_module_version": "1.2.0",
          "state": {
            "_model_module": "@jupyter-widgets/base",
            "_model_module_version": "1.2.0",
            "_model_name": "LayoutModel",
            "_view_count": null,
            "_view_module": "@jupyter-widgets/base",
            "_view_module_version": "1.2.0",
            "_view_name": "LayoutView",
            "align_content": null,
            "align_items": null,
            "align_self": null,
            "border": null,
            "bottom": null,
            "display": null,
            "flex": null,
            "flex_flow": null,
            "grid_area": null,
            "grid_auto_columns": null,
            "grid_auto_flow": null,
            "grid_auto_rows": null,
            "grid_column": null,
            "grid_gap": null,
            "grid_row": null,
            "grid_template_areas": null,
            "grid_template_columns": null,
            "grid_template_rows": null,
            "height": null,
            "justify_content": null,
            "justify_items": null,
            "left": null,
            "margin": null,
            "max_height": null,
            "max_width": null,
            "min_height": null,
            "min_width": null,
            "object_fit": null,
            "object_position": null,
            "order": null,
            "overflow": null,
            "overflow_x": null,
            "overflow_y": null,
            "padding": null,
            "right": null,
            "top": null,
            "visibility": null,
            "width": null
          }
        },
        "3f9b694c75d94058b52af08edfa64698": {
          "model_module": "@jupyter-widgets/controls",
          "model_name": "SliderStyleModel",
          "model_module_version": "1.5.0",
          "state": {
            "_model_module": "@jupyter-widgets/controls",
            "_model_module_version": "1.5.0",
            "_model_name": "SliderStyleModel",
            "_view_count": null,
            "_view_module": "@jupyter-widgets/base",
            "_view_module_version": "1.2.0",
            "_view_name": "StyleView",
            "description_width": "",
            "handle_color": null
          }
        },
        "ae5b6a44485a4b4fb9c304939f8ddf57": {
          "model_module": "@jupyter-widgets/base",
          "model_name": "LayoutModel",
          "model_module_version": "1.2.0",
          "state": {
            "_model_module": "@jupyter-widgets/base",
            "_model_module_version": "1.2.0",
            "_model_name": "LayoutModel",
            "_view_count": null,
            "_view_module": "@jupyter-widgets/base",
            "_view_module_version": "1.2.0",
            "_view_name": "LayoutView",
            "align_content": null,
            "align_items": null,
            "align_self": null,
            "border": null,
            "bottom": null,
            "display": null,
            "flex": null,
            "flex_flow": null,
            "grid_area": null,
            "grid_auto_columns": null,
            "grid_auto_flow": null,
            "grid_auto_rows": null,
            "grid_column": null,
            "grid_gap": null,
            "grid_row": null,
            "grid_template_areas": null,
            "grid_template_columns": null,
            "grid_template_rows": null,
            "height": null,
            "justify_content": null,
            "justify_items": null,
            "left": null,
            "margin": null,
            "max_height": null,
            "max_width": null,
            "min_height": null,
            "min_width": null,
            "object_fit": null,
            "object_position": null,
            "order": null,
            "overflow": null,
            "overflow_x": null,
            "overflow_y": null,
            "padding": null,
            "right": null,
            "top": null,
            "visibility": null,
            "width": null
          }
        },
        "e592fed92c724ce493cca289da1669e8": {
          "model_module": "@jupyter-widgets/controls",
          "model_name": "VBoxModel",
          "model_module_version": "1.5.0",
          "state": {
            "_dom_classes": [
              "widget-interact"
            ],
            "_model_module": "@jupyter-widgets/controls",
            "_model_module_version": "1.5.0",
            "_model_name": "VBoxModel",
            "_view_count": null,
            "_view_module": "@jupyter-widgets/controls",
            "_view_module_version": "1.5.0",
            "_view_name": "VBoxView",
            "box_style": "",
            "children": [
              "IPY_MODEL_b070a2f037ae409eb92d3a7fc4626aec",
              "IPY_MODEL_e327a9021be44b9c901fb9d15b4f58be",
              "IPY_MODEL_3fb3b889d1f14154adfd157b3a696829",
              "IPY_MODEL_349d28e9d9c0486aa162a6191fec37b7",
              "IPY_MODEL_0c2a7ddf065448be99740549e08d051a"
            ],
            "layout": "IPY_MODEL_c2ca4b532b0d4e808fe9bb74d25b61e2"
          }
        },
        "b070a2f037ae409eb92d3a7fc4626aec": {
          "model_module": "@jupyter-widgets/controls",
          "model_name": "FloatSliderModel",
          "model_module_version": "1.5.0",
          "state": {
            "_dom_classes": [],
            "_model_module": "@jupyter-widgets/controls",
            "_model_module_version": "1.5.0",
            "_model_name": "FloatSliderModel",
            "_view_count": null,
            "_view_module": "@jupyter-widgets/controls",
            "_view_module_version": "1.5.0",
            "_view_name": "FloatSliderView",
            "continuous_update": true,
            "description": "m1",
            "description_tooltip": null,
            "disabled": false,
            "layout": "IPY_MODEL_b6f90c5967cb408a8c75b1918740118b",
            "max": 1.5,
            "min": -4.5,
            "orientation": "horizontal",
            "readout": true,
            "readout_format": ".2f",
            "step": 0.1,
            "style": "IPY_MODEL_7746d114b20942e787d19a756528b833",
            "value": 0.4
          }
        },
        "e327a9021be44b9c901fb9d15b4f58be": {
          "model_module": "@jupyter-widgets/controls",
          "model_name": "FloatSliderModel",
          "model_module_version": "1.5.0",
          "state": {
            "_dom_classes": [],
            "_model_module": "@jupyter-widgets/controls",
            "_model_module_version": "1.5.0",
            "_model_name": "FloatSliderModel",
            "_view_count": null,
            "_view_module": "@jupyter-widgets/controls",
            "_view_module_version": "1.5.0",
            "_view_name": "FloatSliderView",
            "continuous_update": true,
            "description": "b1",
            "description_tooltip": null,
            "disabled": false,
            "layout": "IPY_MODEL_db57f9869c6f4047a14c0598d2b079d0",
            "max": 1.5,
            "min": -4.5,
            "orientation": "horizontal",
            "readout": true,
            "readout_format": ".2f",
            "step": 0.1,
            "style": "IPY_MODEL_83f72c2af5f447b681bac67eb4c7853c",
            "value": 0.5
          }
        },
        "3fb3b889d1f14154adfd157b3a696829": {
          "model_module": "@jupyter-widgets/controls",
          "model_name": "FloatSliderModel",
          "model_module_version": "1.5.0",
          "state": {
            "_dom_classes": [],
            "_model_module": "@jupyter-widgets/controls",
            "_model_module_version": "1.5.0",
            "_model_name": "FloatSliderModel",
            "_view_count": null,
            "_view_module": "@jupyter-widgets/controls",
            "_view_module_version": "1.5.0",
            "_view_name": "FloatSliderView",
            "continuous_update": true,
            "description": "m2",
            "description_tooltip": null,
            "disabled": false,
            "layout": "IPY_MODEL_8de6f873be154e7fb9a69f9390d97ad1",
            "max": 4.5,
            "min": -1.5,
            "orientation": "horizontal",
            "readout": true,
            "readout_format": ".2f",
            "step": 0.1,
            "style": "IPY_MODEL_cfe71af0f4734efea3da162029965063",
            "value": 3.4
          }
        },
        "349d28e9d9c0486aa162a6191fec37b7": {
          "model_module": "@jupyter-widgets/controls",
          "model_name": "FloatSliderModel",
          "model_module_version": "1.5.0",
          "state": {
            "_dom_classes": [],
            "_model_module": "@jupyter-widgets/controls",
            "_model_module_version": "1.5.0",
            "_model_name": "FloatSliderModel",
            "_view_count": null,
            "_view_module": "@jupyter-widgets/controls",
            "_view_module_version": "1.5.0",
            "_view_name": "FloatSliderView",
            "continuous_update": true,
            "description": "b2",
            "description_tooltip": null,
            "disabled": false,
            "layout": "IPY_MODEL_4419f32026cf46fb93be4bdc418a82fd",
            "max": 4.5,
            "min": -1.5,
            "orientation": "horizontal",
            "readout": true,
            "readout_format": ".2f",
            "step": 0.1,
            "style": "IPY_MODEL_c274272cf7b64b47b075f671ffd85bb0",
            "value": 3.5
          }
        },
        "0c2a7ddf065448be99740549e08d051a": {
          "model_module": "@jupyter-widgets/output",
          "model_name": "OutputModel",
          "model_module_version": "1.0.0",
          "state": {
            "_dom_classes": [],
            "_model_module": "@jupyter-widgets/output",
            "_model_module_version": "1.0.0",
            "_model_name": "OutputModel",
            "_view_count": null,
            "_view_module": "@jupyter-widgets/output",
            "_view_module_version": "1.0.0",
            "_view_name": "OutputView",
            "layout": "IPY_MODEL_5a936194a394453d9bece7b10371dfde",
            "msg_id": "",
            "outputs": [
              {
                "output_type": "display_data",
                "data": {
                  "text/plain": "<Figure size 576x432 with 1 Axes>",
                  "image/png": "iVBORw0KGgoAAAANSUhEUgAAAesAAAF5CAYAAAC/XQLpAAAAOXRFWHRTb2Z0d2FyZQBNYXRwbG90bGliIHZlcnNpb24zLjcuMSwgaHR0cHM6Ly9tYXRwbG90bGliLm9yZy/bCgiHAAAACXBIWXMAAA3XAAAN1wFCKJt4AAAh3klEQVR4nO3de3SU9Z3H8c+EAMo9EQGBcA8QrsErrBXEIoKLcpX2KLuKgnW5rFLpcg1MYhKwaukFV7pVa626W+mFbQ8tFVi1ohYUCIkkXAIYDAIKJpAAk2SS2T9+JYACScjM/J555v06Zw5PY8zzPaL98Pk9l58nEAgEBAAAHCvG9gAAAODyCGsAAByOsAYAwOEIawAAHI6wBgDA4QhrAAAcjrAGAMDhCGsAAByOsAYAwOFCFtZ//OMflZycrKZNm6p9+/ZatWpVqE4FAICrxYbih65bt04zZszQa6+9pttuu00nT57U0aNHQ3EqAABczxOKd4PfdNNNmj59uh599NFg/2gAAKJO0JfBT506pa1bt+rQoUPq2bOn2rVrp/vuu0+HDx8O9qkAAIgOgSD77LPPApICAwYMCHz66aeBkpKSwAMPPBC44447Lvr9S5cuDUjiw4cPHz58ovpzOUFfBi8uLlZcXJxefPFFPfLII5Kkffv2KTExUSUlJWratOll/36Px6MQrMwDcLuyMqlXL6mgQNq0Sbr1VtsTAbVWU/YFfRm8VatW6tSp00X/GiEMIGRWrTJBfc89BDVcJyQ3mGVkZGj16tVau3at4uPj9dhjj+nzzz/X+vXrax6IZg2grk6elLp3l44fl7KzpX79bE8E1ElN2ReSR7fmz5+vr776SgMHDpQkDR8+XL/+9a9DcSoAkJ57Tjp2THrwQYIarhSSZl0fNGsAdXL0qGnVFRXSnj1S5862JwLqLOzXrAEgrNLTpVOnpJkzCWq4Fs0aQOTav1/q3Vu6+mpp3z6pdWvbEwFXhGYNwL1SUszy9w9+QFDD1WjWACJTVpY0aJDUtq1p1TW8wwFwMpo1AHdasMD8umQJQQ3Xo1kDiDzvvCMNH27uAs/Lkxo2tD0RUC80awDuEghI8+aZ4/R0ghpRgbAGEFn+8AdpyxZzvXryZNvTAGHBMjiAyOH3mzeU7d4t/fWv0siRticCgoJlcADu8corJqjvuEO6807b0wBhQ7MGEBnOnJESE6VDh8wy+E032Z4ICBqaNQB3+NnPTFBPmkRQI+rQrAE4X1GR1K2bVFIi5eZKPXvanggIKpo1gMj39NNScbH0yCMENaISzRqAsx06JPXoYY7z86UOHezOA4QAzRpAZEtNlXw+6fHHCWpELZo1AOfavVvq21dq3txshxkXZ3siICRo1gAi16JFUmWl2bSDoEYUo1kDcKYtW6RbbjFL33v3SldfbXsiIGRo1gAiTyAgzZ9vjr1eghpRj2YNwHn++ldp1Cipd28pJ0eKjbU9ERBSNGsAkaWq6lyrzsggqAER1gCc5je/kbKyzPXq8eNtTwM4AsvgAJyjvFxKSjKPab39tnT77bYnAsKCZXAAkeMXvzBBPWoUQQ2ch2YNwBlKS6Xu3aUvvpC2b5eSk21PBIQNzRpAZFixwgT1/fcT1MDX0KwB2Pfll6ZV+3zSrl1mO0wgitCsAThfZqbZq/p73yOogYugWQOwq6DA7FHdsKG0b5/Utq3tiYCwo1kDcLYlS8wjW08+SVADl0CzBmBPTo40cKB0zTWmVbdoYXsiwAqaNQDnWrTIbNqxeDFBDVwGzRqAHZs2SbfdJnXpYu4Ab9zY9kSANTRrAM5z/haYaWkENVADmjWA8PvTn6R775X69zdvK2vQwPZEgFU0awDOUlkpLVhgjpctI6iBWiCsAYTXa69JO3ea69V33217GiAiBD2sH3roITVq1EjNmjWr/nz44YfBPg2ASOTzmeeqJenppyWPx+48QIQISbOeMWOGSktLqz9DhgwJxWkARJoXXpAOHpTGjpX4/wWg1lgGBxAeJ05IGRlSTIx5FziAWgtJWL/66quKj49X37599dxzz6mqquqS3+v1euXxeKo/AFzq2Wel48elBx+U+vSxPQ0QUYL+6Na2bduUkJCg+Ph4ffTRR5o8ebLmzJmjOXPm1G4gHt0C3OfIEbMFZmWltHevlJBgeyLAUcL+6Nb111+va6+9Vg0aNNDgwYM1f/58/eY3vwn2aQBEkqeekk6flmbNIqiBKxDya9YxMVwWB6Jafr70X/9l3v199vlqAHUS9CR98803dfLkSQUCAX388cdavny5Jk6cGOzTAIgUKSmS3y/Nm2d21wJQZ0G/Zj106FBlZ2fL7/erQ4cOeuSRRzR37txaN2yuWQMusm2bdMMNUrt2pmE3bWp7IsCRasq+2GCf8G9/+1uwfySASHV22XvpUoIaqAc28gAQGv/3f9K3vy0lJprXizZsaHsiwLHYyANA+J2/BWZ6OkEN1BNhDSD4fvc76aOPzPXqSZNsTwNEPJbBAQSX3y/17Svt2SOtXy+NGGF7IsDxWAYHEF4vv2yCesQIghoIEpo1gOA5fdrcUPb559LHH5tlcAA1olkDCJ+f/tQE9eTJBDUQRDRrAMHx1VdSt27SqVNSbq5p2ABqhWYNIDyWLzd7Vk+bRlADQUazBlB/hYUmoGNizGtFr7vO9kRARKFZAwg9r1fy+aQnniCogRCgWQOon7w8qV8/qWVLaf9+qVUr2xMBEYdmDSC0Fi2SqqqkhQsJaiBEaNYArtzf/y4NGSJ17Cjt3StddZXtiYCIRLMGEBrnb9aRmkpQAyFEswZwZf7yF+nuu6WkJCk7W4qNtT0RELFo1gCCr6pKWrDAHGdmEtRAiBHWAOruv/9b2rHDXK8eO9b2NIDrsQwOoG7Ky6XevaUDB6R335WGDrU9ERDxWAYHEFw//7kJ6rvvJqiBMKFZA6i9khKpe3fp2DEpK0saMMD2RIAr0KwBBM+PfiR9+aX0wAMENRBGNGsAtfPFF6ZVl5VJu3dLXbvanghwDZo1gODIyJBKS6V/+zeCGggzmjWAmn36qdSzp9S4sbRvn9Smje2JAFehWQOov5QUqaJCmjuXoAYsoFkDuLzsbCk5WWrd2rTq5s1tTwS4Ds0aQP0sWGA27UhJIagBS2jWAC7tb3+Thg0zN5Tt2iU1amR7IsCVaNYArkwgIM2bZ46feoqgBiyiWQO4uDVrpPHjpYEDpW3bpBj+bA+ESk3ZR1gD+Ca/37yhLC9P+vOfpdGjbU8EuBrL4ADq7tVXTVAPGyaNGmV7GiDq0awBXOjMGfMClMJC6cMPpcGDbU8EuB7NGkDdPP+8Cerx4wlqwCFo1gDOKS6WunWTTpyQPvlESkqyPREQFWjWAGrvhz+UioqkqVMJasBBQtqsz5w5o/79++vYsWMqLi6u3UA0a8COw4fNFpiBgLR3r9Sxo+2JgKhhtVkvWbJEnTt3DuUpAARLWpq5uWz2bIIacJiQhfXWrVu1bt06zTv7BiQAzrV3r/SLX0itWknz59ueBsDXxIbih/r9fk2fPl3PP/+8qqqqQnEKAMG0eLFUWWleLxofb3saAF8Tkmb9zDPPaNCgQRo6dGiN3+v1euXxeKo/AMJs61bpzTel9u2lf/9329MAuIigh3V+fr5WrVqlZ555plbf7/V6FQgEqj8AwuzssvfSpVKTJnZnAXBRQV8G37Rpk44ePaqePXtKkioqKlRSUqLWrVtr7dq1uuWWW4J9SgBXasMG8+nZU3r4YdvTALiEoD+6dfr0aX311VfV//vDDz/UtGnTtHPnTrVp00aNathmj0e3gDCpqpJuvtksg69eLU2aZHsiIGrVlH1Bb9ZNmjRRk/OW0q699lp5PB515FEQwFl++1sT1DfdJE2caHsaAJfB60aBaFRRIfXpI+XnSxs3SnfcYXsiIKrxulEA3/TSSyaoR44kqIEIQLMGos2pU1KPHtKRI9K2bdKgQbYnAqIezRrAhX7yExPU3/0uQQ1ECJo1EE2OHzdbYJ4+LeXlmYYNwDqaNYBzli2TTp6UHn2UoAYiCM0aiBYHD5qXnzRoIO3bJ7VrZ3siAP9AswZgeL1SWZn0/e8T1ECEoVkD0SA3V+rfX4qLk/bvl1q0sD0RgPPQrAFICxea14suWkRQAxGIZg243QcfSLfeKnXqJO3eLV11le2JAHwNzRqIZoHAuS0w09IIaiBC0awBN1u7VhozRurXT8rKMneCA3AcmjUQrSorpQULzHFmJkENRDDCGnCrN96QcnLM9eoxY2xPA6AeWAYH3KisTOrVSyookDZtMoENwLFYBgei0apVJqjvuYegBlyAZg24zcmTUvfuZtOO7GxzcxkAR6NZA9HmueekY8ekf/1XghpwCZo14CZHj5pWXVEh7dkjde5seyIAtUCzBqJJerp06pQ0YwZBDbgIzRpwi/37pd69zVvK9u+XWre2PRGAWqJZA9EiJcUsf//gBwQ14DI0a8ANsrKkQYOktm2l/HypWTPbEwGoA5o1EA3OvlY0JYWgBlyIZg1EunfekYYPl7p1k/LypEaNbE8EoI5o1oCbBQLSvHnmOD2doAZcirAGItkf/iBt2WKuV3/nO7anARAiLIMDkcrvl/r3l3btktatk+66y/ZEAK4Qy+CAW73yignq4cOlkSNtTwMghGjWQCQ6c0ZKTJQOHZI2b5Zuvtn2RADqgWYNuNHPfmaCeuJEghqIAjRrINIUFZnHtEpKpJ07pV69bE8EoJ5o1oDbPP20VFwsPfwwQQ1ECZo1EEkOHZJ69DDH+flShw525wEQFDRrwE3S0iSfT3r8cYIaiCI0ayBS7Nkj9ekjNW9utsCMi7M9EYAgoVkDbrFokVRZaTbtIKiBqEKzBiLBRx+ZR7Q6dJD27pWuvtr2RACCyEqznj17thISEtSiRQt16NBBTzzxhMrLy0NxKsD9AgFp/nxz7PUS1EAUCkmzzsvLU6dOndS0aVMdO3ZM9913n7797W9r8eLFNQ9EswYu9NZb5r3fvXtLOTlSbKztiQAEWU3ZF5L/6pOSkqqPA4GAYmJitHfv3lCcCnC3qqpzrTojg6AGolTIbjBbvny5mjVrpjZt2mjHjh2aPXv2Rb/P6/XK4/FUfwCc5803pe3bpVtukcaPtz0NAEtCfoNZXl6eXn/9dT322GPq2LFjzQOxDA4Y5eXmUa19+6S335Zuv932RABCxPqjW0lJSRo4cKAeeuihUJ8KcJcXXzRBPWoUQQ1EubA8Z11RUcE1a6AuSkvN28okadkyu7MAsC7oYV1aWqpf/vKXKi4uViAQUE5OjtLT03XXXXcF+1SAe/34x9LRo9L990vJybanAWBZ0K9Znzp1SuPGjdO2bdtUVlamNm3aaOLEiUpNTVWTJk1qHohr1oh2x46ZLTB9PmnXLnMMwNXC/uhW06ZNtX79+mD/WCB6ZGaavapnzSKoAUjidaOAsxQUSD17Sg0bmpvL2ra1PRGAMLB+NziAOli61Dyy9eSTBDWAajRrwCk++UQaMEBq3VrKz5datLA9EYAwoVkDkWLhQrNpx+LFBDWAC9CsASfYtEm67TapSxdzB3jjxrYnAhBGNGvA6c7fAjMtjaAG8A00a8C2P/1JuvdeqX9/s2lHgwa2JwIQZjRrwMkqK6UFC8zxsmUENYCLIqwBm157Tdq501yvvvtu29MAcCiWwQFbfD6pVy/p4EHpgw+kIUNsTwTAEpbBAad64QUT1GPHEtQALotmDdhw4oTUvbtUVCRlZ0t9+9qeCIBFNGvAiZ59Vjp+XHrwQYIaQI1o1kC4HTliWnVlpbRnj9Spk+2JAFhGswac5qmnpNOnpZkzCWoAtUKzBsIpP19KSpKaNJH275euucb2RAAcgGYNOElKiuT3S//xHwQ1gFqjWQPhsm2bdMMNUrt2pmE3bWp7IgAOQbMGnOLsZh1LlhDUAOqEZg2Ew8aN0ogRUo8eUm6u1LCh7YkAOAjNGrDt/C0w09MJagB1RlgDofa730kffyxdf7103322pwEQgVgGB0LJ7zdvKNuzR3rrLenOO21PBMCBWAYHbHr5ZRPUI0YQ1ACuGM0aCJXTp80NZYcPm2XwG26wPREAh6JZA7b89KcmqCdPJqgB1AvNGgiFr76SunWTSkulvDwpMdH2RAAcjGYN2LB8udmzevp0ghpAvdGsgWArLDQBHRNjXit63XW2JwLgcDRrINy8Xsnnk554gqAGEBQ0ayCY8vKkfv2kVq3MFpgtW9qeCEAEoFkD4bR4sVRVJS1YQFADCBqaNRAsmzdLgwdLHTtKe/dKV11leyIAEYJmDYTD+Zt1pKYS1ACCimYNBMO6ddLo0VJSkpSdLcXG2p4IQAShWQOhVlV1rlVnZhLUAIKOsAbq63/+R9qxQxoyRBo71vY0AFwo6GFdVlam6dOnq2vXrmrevLl69+6tl19+OdinAZyhvNzcAS6Zt5Z5PHbnAeBKQV+v8/v9uu6667RhwwZ169ZNmzdv1ujRo9WxY0eNHDky2KcD7Pr5z6UDB6R//mdp6FDb0wBwqbDcYDZhwgT169dPaWlpNQ/EDWaIFCUlUvfu0rFjZhm8f3/bEwGIUNZvMPP5fNqyZYsGDBgQ6lMB4fWjH0lffilNmUJQAwipkIZ1IBDQtGnTlJiYqAkTJlz0e7xerzweT/UHiAhffCE9+6zUsKFUixUjAKiPkIV1IBDQjBkztHv3bq1Zs0YxMRc/ldfrVSAQqP4AESEjw+xVPWOG1KWL7WkAuFxIrlkHAgHNnDlTf//737Vx40bFxcXVfiCuWcPpDhyQevUybynbt0+69lrbEwGIcFauWc+aNUvvv/++1q9fX6egBiLCkiVSRYU0dy5BDSAsgt6sCwoK1KVLFzVu3Fix573JacqUKVq1alXNA9Gs4WTZ2VJysgnpffukZs1sTwTABWrKvqA/Z925c2fCFu61cKHZtCMlhaAGEDZs5AHU1nvvmRefdO0q7dolNWpkeyIALmH9OWvAFQIBad48c/zUUwQ1gLCiWQO18b//K40bJw0cKG3bJl3iUUQAuBI1ZR9hDdTE7zchnZsr/fnPZt9qAAgilsGB+nr1VRPUw4ZJo0bZngZAFKJZA5dz5ozUs6dUWCh9+KE0eLDtiQC4EM0aqI/nnzdBPX48QQ3AGpo1cCnFxVK3btKJE9Inn0hJSbYnAuBSNGvgSv3wh1JRkTR1KkENwCqaNXAxn38u9eghVVVJ+flSx462JwLgYjRr4EqkpZmby2bPJqgBWEezBr5uzx6pTx/z7u/9+6X4eNsTAXA5mjVQV4sXS5WV0vz5BDUAR6BZA+f7+GPpppuk9u2lvXulJk1sTwQgCtCsgbqYP9/8unQpQQ3AMWjWwFnr10sjR5o3lu3cKcUGfbt3ALgomjVQG1VV0oIF5jgjg6AG4CiENSBJv/2ttHWruV49caLtaQDgAiyDAxUV5lGt/Hxp40bpjjtsTwQgyrAMDtTkpZdMUI8cSVADcCSaNaLbqVPmtaJHjkjbtkmDBtmeCEAUolkDl/OTn5ig/u53CWoAjkWzRvQ6ftxsgXn6tJSXZxo2AFhAswYuZdky6eRJ6dFHCWoAjkazRnT67DMpMVFq0EDat09q1872RACiGM0auJilS6WyMun73yeoATgezRrRJzdX6t9fioszrbplS9sTAYhyNGvg6xYuNK8XXbiQoAYQEWjWiC4ffCDdequUkCDt2SNddZXtiQCAZg1UCwTObYGZlkZQA4gYNGtEj7VrpTFjpL59pR07zJ3gAOAANGtAkiorz22BmZlJUAOIKIQ1osMbb0g5OeZ69T332J4GAOqEZXC4X1mZ1KuXVFAgvfee9K1v2Z4IAC7AMjiwapUJ6jFjCGoAEYlmDXc7eVLq3t1s2rFjh3kZCgA4DM0a0e2556Rjx6R/+ReCGkDEolnDvY4eNa26osK8AKVzZ9sTAcBFWWnWK1eu1I033qjGjRtr3LhxoTgFULP0dOnUKWnmTIIaQEQLSbP+/e9/r5iYGG3YsEGFhYVas2ZN7QeiWSMY9u+XeveWrr7abNbRurXtiQDgkmrKvthQnHTChAmSpKysLBUWFobiFMDlpaSY5e8lSwhqABHP+g1mXq9XHo+n+gPUW1aWeQlK27bSnDm2pwGAenNEWAcCgeoPUG8LF5pflyyRmja1OwsABIH1sAaC6t13pb/8xdwFPn267WkAICgIa7hHICDNm2eOn3pKatjQ7jwAECQhucHM7/dXf6qqquTz+RQTE6NGjRqF4nSAsWaNtHmzNGiQ9J3v2J4GAIImJI9ueb1epaamXvC1YcOG6Z133ql5IB7dwpXw+80bynbtktatk+66y/ZEAFBrNWUfbzCDO7z0kjRtmjR8uLRxo8STBQAiCGEN9ztzRkpMlA4dMsvgN99seyIAqBM28oD7rVxpgnriRIIagCvRrBHZioulbt3MVpg7d0q9etmeCADqjGYNd3v6aamoSHr4YYIagGvRrBG5Dh0y16oDASk/X+rQwfZEAHBFaNZwr9RUc3PZ448T1ABcjWaNyLR7t9S3r9S8udkOMy7O9kQAcMVo1nCnRYukykppwQKCGoDr0awRebZskW65xSx9790rXX217YkAoF5o1nCXQECaP98ce70ENYCoQLNGZHnrLfPe7969pZwcKTYke9EAQFjRrOEeVVXnWnVGBkENIGoQ1ogcb74pbd9urlePH297GgAIG5bBERnKy6U+faR9+6S335Zuv932RAAQNCyDwx1efNEE9ahRBDWAqEOzhvOVlko9ekhHj5pl8ORk2xMBQFDRrBH5fvxjE9T3309QA4hKNGs427FjZgtMn0/atcscA4DL0KwR2TIzpZIS6XvfI6gBRC2aNZyroEDq2VNq2NDcXNa2re2JACAkaNaIXEuWmEe2nnySoAYQ1WjWcKacHGngQOmaa0yrbtHC9kQAEDI0a0SmhQvNph2LFhHUAKIezRrOs2mTdNttUufO0u7dUuPGticCgJCiWSOyBALSvHnmOC2NoAYA0azhNH/8ozR2rNS/v3lbWYMGticCgJCjWSNyVFaaa9WStGwZQQ0A/0BYwzlee03audNcr777btvTAIBjsAwOZ/D5pF69pIMHpQ8+kIYMsT0RAIQNy+CIDC+8YIJ67FiCGgC+hmYN+w4flvr2lU6cMC9D6dPH9kQAEFY0azhbICA9+qhUVCTNmkVQA8BF0Kxh1yuvSFOnSomJUlaW1KSJ7YkAIOxqyj7CGvZ89pnUr59UWiq99570T/9keyIAsIJlcDhTICA98oh08qQ0dy5BDQCXQbNG+FVVSStXSo8/bq5Rb90qXXWV7akAwJqasi82jLMgGvn90q5d0rZt5z7bt5ul7wYNpFdfJagBoAYhCeuKigrNmTNHr7/+ujwejx544AGtWLFCsbH82cDVysul3FwTyFu3ml937JDOnLnw+5o2lb71LWnmTOmGG+zMCgARJCTpmZ6erk2bNik3N1eSNHr0aGVmZmrJkiWhOB1s8PmkTz65MJizs01gn69lS2nwYOn6600wX3+9ufM7htslAKC2QnLNOiEhQStWrNCkSZMkSatXr9bcuXNVUFBQ80DBvGZdWGheuIH6Ky01LTkryyxj5+aaJe7zxcebQD4byjfcIHXtKnk8VkYGgEgR9mvWRUVFKiwsVHJycvXXkpOTdfDgQZ04cUItW7YM9ikv7T//0+zehOBr2/ZcKJ/9dOpEMANACAQ9rEtLSyVJrVq1qv7a2eOSkpJvhLXX61VqamqwxzD69ZP+0e5RT40amVeCDhpkPu3a2Z4IAKJG0JfBi4qKFB8fr/z8fHXv3l2SlJ+fr8TERBUXF9fYrHl0CwAQbcL+UpS4uDh17NhRWVlZ1V/LyspSQkJCeJfAAQBwiZDckjt16lRlZGToyJEjOnLkiDIzMzVt2rRQnAoAANcLyaNbKSkpOn78uJKSkiRJU6ZM0cKFC0NxKgAAXI/XjQIAYBkbeQAAEOEIawAAHI6wBgDA4QhrAAAcjrAGAMDhCGsAAByOsAYAwOEIawAAHI6wBgDA4QhrAAAcjrAGAMDhCGsAAByOsAYAwOEIawAAHI6wBgDA4QhrAAAcjrAGAMDhCGsAAByOsAYAwOEIawAAHI6wBgDA4QhrAAAcjrAGAMDhCGsAAByOsAYAwOEIawAAHI6wBgDA4QhrAAAcjrAGAMDhCGsAAByOsAYAwOEIawAAHI6wBgDA4QhrAAAcjrAGAMDhCGsAAByOsAYAwOEIawAAHC6oYX348GHde++9at++vTwej7KysoL54wEAiEpBDeuYmBiNGjVKa9asCeaPBQAgqnkCgUAgJD/Y49H27duVnJxc578vRCMBAOBINWVfbBhnuSiv16vU1NQLvubxeCxNAwCA89S6WY8ZM0Zr16695F8/cOCAunTpcu4HX2GztoVGbx+/B3bxz98+fg/sc+rvQa2b9RtvvKHy8vJL/vX4+PigDAQAAC5U67Bu0aJFKOcAAACXEPRr1j6fr/q4vLxcPp9PjRo1UkyMsx/pXrp0qe0Roh6/B3bxz98+fg/sc+rvQdDvBr/YzWFvv/22br/99mCeBgCAqBH0Zu3EC/MAAEQyZ69NAwAAwhoAAKcjrAEAcDjC+jxr167V0KFDFRcXpzZt2mjSpEkqLCy0PVZUYTOY8KuoqNCsWbMUFxen+Ph4zZ49W36/3/ZYUWPlypW68cYb1bhxY40bN872OFGprKxM06dPV9euXdW8eXP17t1bL7/8su2xLkBYn+fEiROaN2+ePvvsMx04cEAtWrTQ5MmTbY8VVdgMJvzS09O1adMm5ebmaufOnXrvvfeUmZlpe6yo0b59ey1evFjTp0+3PUrU8vv9uu6667RhwwadPHlSr7zyip588km99dZbtkerFrKNPNwgOztbgwYNUllZmWJjrb9GPepE2itrI1VCQoJWrFihSZMmSZJWr16tuXPnqqCgwPJk0cXr9SorK4s/qDrEhAkT1K9fP6WlpdkeRRLN+rLeffddJSUlEdRwraKiIhUWFl7wB6Lk5GQdPHhQJ06csDcYYJHP59OWLVs0YMAA26NUi5qwHjNmjDwezyU/n3766QXfv337dqWkpGjFihV2Bnahuv4eIPRKS0slSa1atar+2tnjkpISCxMBdgUCAU2bNk2JiYmaMGGC7XGqRU1lrMtGJDk5ORo9erRWrlypO++8MxzjRQU2g3GeZs2aSTL3a7Ru3br6WJKaN29ubS7AhkAgoBkzZmj37t3asGGDo16THTVhXduNSHJycjRixAgtX75cU6ZMCfFU0YXNYJwnLi5OHTt2VFZWlrp37y5JysrKUkJCglq2bGl5OiB8AoGAZs6cqc2bN2vjxo2O+/ffOX9scICdO3dqxIgRSk9P19SpU22PE7V8Pl/1hjBnN4OpqqqyPJV7TZ06VRkZGTpy5IiOHDmizMxMTZs2zfZYUcPv98vn88nv96uqqko+n++yK1AIjVmzZun999/X+vXrFRcXZ3ucb+Bu8PNMnTpVv/rVr9SkSZMLvp6bm6tOnTpZmir6sBlMeFVUVOiJJ57QG2+8IUmaMmWKVqxYwY2VYeL1epWamnrB14YNG6Z33nnHzkBRqKCgQF26dFHjxo0v+Pd+ypQpWrVqlcXJziGsAQBwOJbBAQBwOMIaAACHI6wBAHA4whoAAIcjrAEAcDjCGgAAhyOsAQBwOMIaAACHI6wBAHA4whoAAIcjrAEAcLj/B68DxMBHyQ/DAAAAAElFTkSuQmCC\n"
                },
                "metadata": {}
              }
            ]
          }
        },
        "c2ca4b532b0d4e808fe9bb74d25b61e2": {
          "model_module": "@jupyter-widgets/base",
          "model_name": "LayoutModel",
          "model_module_version": "1.2.0",
          "state": {
            "_model_module": "@jupyter-widgets/base",
            "_model_module_version": "1.2.0",
            "_model_name": "LayoutModel",
            "_view_count": null,
            "_view_module": "@jupyter-widgets/base",
            "_view_module_version": "1.2.0",
            "_view_name": "LayoutView",
            "align_content": null,
            "align_items": null,
            "align_self": null,
            "border": null,
            "bottom": null,
            "display": null,
            "flex": null,
            "flex_flow": null,
            "grid_area": null,
            "grid_auto_columns": null,
            "grid_auto_flow": null,
            "grid_auto_rows": null,
            "grid_column": null,
            "grid_gap": null,
            "grid_row": null,
            "grid_template_areas": null,
            "grid_template_columns": null,
            "grid_template_rows": null,
            "height": null,
            "justify_content": null,
            "justify_items": null,
            "left": null,
            "margin": null,
            "max_height": null,
            "max_width": null,
            "min_height": null,
            "min_width": null,
            "object_fit": null,
            "object_position": null,
            "order": null,
            "overflow": null,
            "overflow_x": null,
            "overflow_y": null,
            "padding": null,
            "right": null,
            "top": null,
            "visibility": null,
            "width": null
          }
        },
        "b6f90c5967cb408a8c75b1918740118b": {
          "model_module": "@jupyter-widgets/base",
          "model_name": "LayoutModel",
          "model_module_version": "1.2.0",
          "state": {
            "_model_module": "@jupyter-widgets/base",
            "_model_module_version": "1.2.0",
            "_model_name": "LayoutModel",
            "_view_count": null,
            "_view_module": "@jupyter-widgets/base",
            "_view_module_version": "1.2.0",
            "_view_name": "LayoutView",
            "align_content": null,
            "align_items": null,
            "align_self": null,
            "border": null,
            "bottom": null,
            "display": null,
            "flex": null,
            "flex_flow": null,
            "grid_area": null,
            "grid_auto_columns": null,
            "grid_auto_flow": null,
            "grid_auto_rows": null,
            "grid_column": null,
            "grid_gap": null,
            "grid_row": null,
            "grid_template_areas": null,
            "grid_template_columns": null,
            "grid_template_rows": null,
            "height": null,
            "justify_content": null,
            "justify_items": null,
            "left": null,
            "margin": null,
            "max_height": null,
            "max_width": null,
            "min_height": null,
            "min_width": null,
            "object_fit": null,
            "object_position": null,
            "order": null,
            "overflow": null,
            "overflow_x": null,
            "overflow_y": null,
            "padding": null,
            "right": null,
            "top": null,
            "visibility": null,
            "width": null
          }
        },
        "7746d114b20942e787d19a756528b833": {
          "model_module": "@jupyter-widgets/controls",
          "model_name": "SliderStyleModel",
          "model_module_version": "1.5.0",
          "state": {
            "_model_module": "@jupyter-widgets/controls",
            "_model_module_version": "1.5.0",
            "_model_name": "SliderStyleModel",
            "_view_count": null,
            "_view_module": "@jupyter-widgets/base",
            "_view_module_version": "1.2.0",
            "_view_name": "StyleView",
            "description_width": "",
            "handle_color": null
          }
        },
        "db57f9869c6f4047a14c0598d2b079d0": {
          "model_module": "@jupyter-widgets/base",
          "model_name": "LayoutModel",
          "model_module_version": "1.2.0",
          "state": {
            "_model_module": "@jupyter-widgets/base",
            "_model_module_version": "1.2.0",
            "_model_name": "LayoutModel",
            "_view_count": null,
            "_view_module": "@jupyter-widgets/base",
            "_view_module_version": "1.2.0",
            "_view_name": "LayoutView",
            "align_content": null,
            "align_items": null,
            "align_self": null,
            "border": null,
            "bottom": null,
            "display": null,
            "flex": null,
            "flex_flow": null,
            "grid_area": null,
            "grid_auto_columns": null,
            "grid_auto_flow": null,
            "grid_auto_rows": null,
            "grid_column": null,
            "grid_gap": null,
            "grid_row": null,
            "grid_template_areas": null,
            "grid_template_columns": null,
            "grid_template_rows": null,
            "height": null,
            "justify_content": null,
            "justify_items": null,
            "left": null,
            "margin": null,
            "max_height": null,
            "max_width": null,
            "min_height": null,
            "min_width": null,
            "object_fit": null,
            "object_position": null,
            "order": null,
            "overflow": null,
            "overflow_x": null,
            "overflow_y": null,
            "padding": null,
            "right": null,
            "top": null,
            "visibility": null,
            "width": null
          }
        },
        "83f72c2af5f447b681bac67eb4c7853c": {
          "model_module": "@jupyter-widgets/controls",
          "model_name": "SliderStyleModel",
          "model_module_version": "1.5.0",
          "state": {
            "_model_module": "@jupyter-widgets/controls",
            "_model_module_version": "1.5.0",
            "_model_name": "SliderStyleModel",
            "_view_count": null,
            "_view_module": "@jupyter-widgets/base",
            "_view_module_version": "1.2.0",
            "_view_name": "StyleView",
            "description_width": "",
            "handle_color": null
          }
        },
        "8de6f873be154e7fb9a69f9390d97ad1": {
          "model_module": "@jupyter-widgets/base",
          "model_name": "LayoutModel",
          "model_module_version": "1.2.0",
          "state": {
            "_model_module": "@jupyter-widgets/base",
            "_model_module_version": "1.2.0",
            "_model_name": "LayoutModel",
            "_view_count": null,
            "_view_module": "@jupyter-widgets/base",
            "_view_module_version": "1.2.0",
            "_view_name": "LayoutView",
            "align_content": null,
            "align_items": null,
            "align_self": null,
            "border": null,
            "bottom": null,
            "display": null,
            "flex": null,
            "flex_flow": null,
            "grid_area": null,
            "grid_auto_columns": null,
            "grid_auto_flow": null,
            "grid_auto_rows": null,
            "grid_column": null,
            "grid_gap": null,
            "grid_row": null,
            "grid_template_areas": null,
            "grid_template_columns": null,
            "grid_template_rows": null,
            "height": null,
            "justify_content": null,
            "justify_items": null,
            "left": null,
            "margin": null,
            "max_height": null,
            "max_width": null,
            "min_height": null,
            "min_width": null,
            "object_fit": null,
            "object_position": null,
            "order": null,
            "overflow": null,
            "overflow_x": null,
            "overflow_y": null,
            "padding": null,
            "right": null,
            "top": null,
            "visibility": null,
            "width": null
          }
        },
        "cfe71af0f4734efea3da162029965063": {
          "model_module": "@jupyter-widgets/controls",
          "model_name": "SliderStyleModel",
          "model_module_version": "1.5.0",
          "state": {
            "_model_module": "@jupyter-widgets/controls",
            "_model_module_version": "1.5.0",
            "_model_name": "SliderStyleModel",
            "_view_count": null,
            "_view_module": "@jupyter-widgets/base",
            "_view_module_version": "1.2.0",
            "_view_name": "StyleView",
            "description_width": "",
            "handle_color": null
          }
        },
        "4419f32026cf46fb93be4bdc418a82fd": {
          "model_module": "@jupyter-widgets/base",
          "model_name": "LayoutModel",
          "model_module_version": "1.2.0",
          "state": {
            "_model_module": "@jupyter-widgets/base",
            "_model_module_version": "1.2.0",
            "_model_name": "LayoutModel",
            "_view_count": null,
            "_view_module": "@jupyter-widgets/base",
            "_view_module_version": "1.2.0",
            "_view_name": "LayoutView",
            "align_content": null,
            "align_items": null,
            "align_self": null,
            "border": null,
            "bottom": null,
            "display": null,
            "flex": null,
            "flex_flow": null,
            "grid_area": null,
            "grid_auto_columns": null,
            "grid_auto_flow": null,
            "grid_auto_rows": null,
            "grid_column": null,
            "grid_gap": null,
            "grid_row": null,
            "grid_template_areas": null,
            "grid_template_columns": null,
            "grid_template_rows": null,
            "height": null,
            "justify_content": null,
            "justify_items": null,
            "left": null,
            "margin": null,
            "max_height": null,
            "max_width": null,
            "min_height": null,
            "min_width": null,
            "object_fit": null,
            "object_position": null,
            "order": null,
            "overflow": null,
            "overflow_x": null,
            "overflow_y": null,
            "padding": null,
            "right": null,
            "top": null,
            "visibility": null,
            "width": null
          }
        },
        "c274272cf7b64b47b075f671ffd85bb0": {
          "model_module": "@jupyter-widgets/controls",
          "model_name": "SliderStyleModel",
          "model_module_version": "1.5.0",
          "state": {
            "_model_module": "@jupyter-widgets/controls",
            "_model_module_version": "1.5.0",
            "_model_name": "SliderStyleModel",
            "_view_count": null,
            "_view_module": "@jupyter-widgets/base",
            "_view_module_version": "1.2.0",
            "_view_name": "StyleView",
            "description_width": "",
            "handle_color": null
          }
        },
        "5a936194a394453d9bece7b10371dfde": {
          "model_module": "@jupyter-widgets/base",
          "model_name": "LayoutModel",
          "model_module_version": "1.2.0",
          "state": {
            "_model_module": "@jupyter-widgets/base",
            "_model_module_version": "1.2.0",
            "_model_name": "LayoutModel",
            "_view_count": null,
            "_view_module": "@jupyter-widgets/base",
            "_view_module_version": "1.2.0",
            "_view_name": "LayoutView",
            "align_content": null,
            "align_items": null,
            "align_self": null,
            "border": null,
            "bottom": null,
            "display": null,
            "flex": null,
            "flex_flow": null,
            "grid_area": null,
            "grid_auto_columns": null,
            "grid_auto_flow": null,
            "grid_auto_rows": null,
            "grid_column": null,
            "grid_gap": null,
            "grid_row": null,
            "grid_template_areas": null,
            "grid_template_columns": null,
            "grid_template_rows": null,
            "height": null,
            "justify_content": null,
            "justify_items": null,
            "left": null,
            "margin": null,
            "max_height": null,
            "max_width": null,
            "min_height": null,
            "min_width": null,
            "object_fit": null,
            "object_position": null,
            "order": null,
            "overflow": null,
            "overflow_x": null,
            "overflow_y": null,
            "padding": null,
            "right": null,
            "top": null,
            "visibility": null,
            "width": null
          }
        }
      }
    }
  },
  "nbformat_minor": 0,
  "nbformat": 4,
  "cells": [
    {
      "cell_type": "markdown",
      "metadata": {
        "id": "view-in-github",
        "colab_type": "text"
      },
      "source": [
        "<a href=\"https://colab.research.google.com/github/Ibraheem101/Data-Science-learning/blob/main/fastai/Copy_of_04_how_does_a_neural_net_really_work.ipynb\" target=\"_parent\"><img src=\"https://colab.research.google.com/assets/colab-badge.svg\" alt=\"Open In Colab\"/></a>"
      ]
    },
    {
      "cell_type": "markdown",
      "source": [
        "**Important**: The interactive features of this notebook don't work in Kaggle's *Reader* mode. They only work in *Edit* mode. Therefore, before starting reading this, please click \"**Copy & Edit**\" in the top right of this window, then in the menu click *Run* and then *Run all*. Then you'll be able to use all the interactive sliders in this notebook."
      ],
      "metadata": {
        "id": "eitU2kqA-WOS"
      }
    },
    {
      "cell_type": "markdown",
      "source": [
        "## Fitting a function with *gradient descent*"
      ],
      "metadata": {
        "id": "MnxZ3S4k-WOe"
      }
    },
    {
      "cell_type": "markdown",
      "source": [
        "A neural network is just a mathematical function. In the most standard kind of neural network, the function:\n",
        "\n",
        "1. Multiplies each input by a number of values. These values are known as *parameters*\n",
        "1. Adds them up for each group of values\n",
        "1. Replaces the negative numbers with zeros\n",
        "\n",
        "This represents one \"layer\". Then these three steps are repeated, using the outputs of the previous layer as the inputs to the next layer. Initially, the parameters in this function are selected randomly. Therefore a newly created neural network doesn't do anything useful at all -- it's just random!\n",
        "\n",
        "To get the function to \"learn\" to do something useful, we have to change the parameters to make them \"better\" in some way. We do this using *gradient descent*. Let's see how this works..."
      ],
      "metadata": {
        "id": "M5t9eCJf-WOf"
      }
    },
    {
      "cell_type": "code",
      "source": [
        "from ipywidgets import interact\n",
        "from fastai.basics import *\n",
        "\n",
        "plt.rc('figure', dpi=90)\n",
        "\n",
        "def plot_function(f, title=None, min=-2.1, max=2.1, color='r', ylim=None):\n",
        "    x = torch.linspace(min,max, 100)[:,None]\n",
        "    if ylim: plt.ylim(ylim)\n",
        "    plt.plot(x, f(x), color)\n",
        "    if title is not None: plt.title(title)"
      ],
      "metadata": {
        "_kg_hide-input": true,
        "execution": {
          "iopub.status.busy": "2022-04-23T08:54:34.585263Z",
          "iopub.execute_input": "2022-04-23T08:54:34.587766Z",
          "iopub.status.idle": "2022-04-23T08:54:36.961606Z",
          "shell.execute_reply.started": "2022-04-23T08:54:34.587646Z",
          "shell.execute_reply": "2022-04-23T08:54:36.960846Z"
        },
        "trusted": true,
        "id": "nLxNxY0A-WOi"
      },
      "execution_count": null,
      "outputs": []
    },
    {
      "cell_type": "markdown",
      "source": [
        "To learn how gradient descent works, we're going to start by fitting a quadratic, since that's a function most of us are probably more familiar with than a neural network. Here's the quadratic we're going to try to fit:"
      ],
      "metadata": {
        "id": "pzC8roTx-WOk"
      }
    },
    {
      "cell_type": "code",
      "source": [
        "def f(x): return 3*x**2 + 2*x + 1\n",
        "\n",
        "plot_function(f, \"$3x^2 + 2x + 1$\")"
      ],
      "metadata": {
        "execution": {
          "iopub.status.busy": "2022-04-23T08:54:36.963135Z",
          "iopub.execute_input": "2022-04-23T08:54:36.96361Z",
          "iopub.status.idle": "2022-04-23T08:54:37.603953Z",
          "shell.execute_reply.started": "2022-04-23T08:54:36.963574Z",
          "shell.execute_reply": "2022-04-23T08:54:37.60309Z"
        },
        "trusted": true,
        "id": "WAJ-4P3p-WOl",
        "outputId": "b4fc4865-4836-4232-f0df-a6b9175f9c92",
        "colab": {
          "base_uri": "https://localhost:8080/",
          "height": 412
        }
      },
      "execution_count": null,
      "outputs": [
        {
          "output_type": "display_data",
          "data": {
            "text/plain": [
              "<Figure size 576x432 with 1 Axes>"
            ],
            "image/png": "[encoded data removed]"
          },
          "metadata": {}
        }
      ]
    },
    {
      "cell_type": "markdown",
      "source": [
        "This quadratic is of the form $ax^2+bx+c$, with parameters $a=3$, $b=2$, $c=1$. To make it easier to try out different quadratics for fitting a model to the data we'll create, let's create a function that calculates the value of a point on any quadratic:"
      ],
      "metadata": {
        "id": "f_wNYWd5-WOl"
      }
    },
    {
      "cell_type": "code",
      "source": [
        "def quad(a, b, c, x): return a*x**2 + b*x + c"
      ],
      "metadata": {
        "execution": {
          "iopub.status.busy": "2022-04-23T08:54:37.605073Z",
          "iopub.execute_input": "2022-04-23T08:54:37.605295Z",
          "iopub.status.idle": "2022-04-23T08:54:37.610024Z",
          "shell.execute_reply.started": "2022-04-23T08:54:37.605268Z",
          "shell.execute_reply": "2022-04-23T08:54:37.609103Z"
        },
        "trusted": true,
        "id": "vVSWykNs-WOm"
      },
      "execution_count": null,
      "outputs": []
    },
    {
      "cell_type": "markdown",
      "source": [
        "If we fix some particular values of a, b, and c, then we'll have made a quadratic. To fix values passed to a function in python, we use the `partial` function, like so:"
      ],
      "metadata": {
        "id": "QAof1ZAg-WOm"
      }
    },
    {
      "cell_type": "code",
      "source": [
        "def mk_quad(a,b,c): return partial(quad, a,b,c)"
      ],
      "metadata": {
        "execution": {
          "iopub.status.busy": "2022-04-23T08:54:37.611932Z",
          "iopub.execute_input": "2022-04-23T08:54:37.612415Z",
          "iopub.status.idle": "2022-04-23T08:54:37.622926Z",
          "shell.execute_reply.started": "2022-04-23T08:54:37.612377Z",
          "shell.execute_reply": "2022-04-23T08:54:37.622077Z"
        },
        "trusted": true,
        "id": "cFB0o2Rz-WOn"
      },
      "execution_count": null,
      "outputs": []
    },
    {
      "cell_type": "markdown",
      "source": [
        "So for instance, we can recreate our previous quadratic:"
      ],
      "metadata": {
        "id": "sKvFAqxB-WOn"
      }
    },
    {
      "cell_type": "code",
      "source": [
        "f2 = mk_quad(3,2,1)\n",
        "plot_function(f2)"
      ],
      "metadata": {
        "execution": {
          "iopub.status.busy": "2022-04-23T08:54:37.624649Z",
          "iopub.execute_input": "2022-04-23T08:54:37.625357Z",
          "iopub.status.idle": "2022-04-23T08:54:37.829696Z",
          "shell.execute_reply.started": "2022-04-23T08:54:37.62531Z",
          "shell.execute_reply": "2022-04-23T08:54:37.828997Z"
        },
        "trusted": true,
        "id": "noTolT90-WOo",
        "outputId": "14586043-70bb-4bff-b02a-5e20d626117f",
        "colab": {
          "base_uri": "https://localhost:8080/",
          "height": 389
        }
      },
      "execution_count": null,
      "outputs": [
        {
          "output_type": "display_data",
          "data": {
            "text/plain": [
              "<Figure size 576x432 with 1 Axes>"
            ],
            "image/png": "[encoded data removed]"
          },
          "metadata": {}
        }
      ]
    },
    {
      "cell_type": "markdown",
      "source": [
        "Now let's simulate making some noisy measurements of our quadratic `f`. We'll then use gradient descent to see if we can recreate the original function from the data.\n",
        "\n",
        "Here's a couple of functions to add some random noise to data:"
      ],
      "metadata": {
        "id": "PJGTmzwJ-WOo"
      }
    },
    {
      "cell_type": "code",
      "source": [
        "def noise(x, scale): return np.random.normal(scale=scale, size=x.shape)\n",
        "def add_noise(x, mult, add): return x * (1+noise(x,mult)) + noise(x,add)"
      ],
      "metadata": {
        "execution": {
          "iopub.status.busy": "2022-04-23T08:54:37.831069Z",
          "iopub.execute_input": "2022-04-23T08:54:37.831627Z",
          "iopub.status.idle": "2022-04-23T08:54:37.838391Z",
          "shell.execute_reply.started": "2022-04-23T08:54:37.831581Z",
          "shell.execute_reply": "2022-04-23T08:54:37.837454Z"
        },
        "trusted": true,
        "id": "ytdozVVH-WOp"
      },
      "execution_count": null,
      "outputs": []
    },
    {
      "cell_type": "markdown",
      "source": [
        "Let's use the now to create our noisy measurements based on the quadratic above:"
      ],
      "metadata": {
        "id": "IGjVOKFc-WOp"
      }
    },
    {
      "cell_type": "code",
      "source": [
        "np.random.seed(42)\n",
        "\n",
        "x = torch.linspace(-2, 2, steps=20)[:,None]\n",
        "y = add_noise(f(x), 0.15, 1.5)"
      ],
      "metadata": {
        "execution": {
          "iopub.status.busy": "2022-04-23T08:54:37.839727Z",
          "iopub.execute_input": "2022-04-23T08:54:37.83997Z",
          "iopub.status.idle": "2022-04-23T08:54:37.86166Z",
          "shell.execute_reply.started": "2022-04-23T08:54:37.839939Z",
          "shell.execute_reply": "2022-04-23T08:54:37.861067Z"
        },
        "trusted": true,
        "id": "SQiyB7h_-WOq"
      },
      "execution_count": null,
      "outputs": []
    },
    {
      "cell_type": "markdown",
      "source": [
        "Here's the first few values of each of `x` and `y`:"
      ],
      "metadata": {
        "id": "rHWsXZRN-WOq"
      }
    },
    {
      "cell_type": "code",
      "source": [
        "x[:5],y[:5]"
      ],
      "metadata": {
        "execution": {
          "iopub.status.busy": "2022-04-23T08:54:37.862576Z",
          "iopub.execute_input": "2022-04-23T08:54:37.863311Z",
          "iopub.status.idle": "2022-04-23T08:54:37.901746Z",
          "shell.execute_reply.started": "2022-04-23T08:54:37.863275Z",
          "shell.execute_reply": "2022-04-23T08:54:37.9009Z"
        },
        "trusted": true,
        "id": "AGG9Tymo-WOq",
        "outputId": "7a59f968-d54a-49e2-8325-d95f2797331d",
        "colab": {
          "base_uri": "https://localhost:8080/"
        }
      },
      "execution_count": null,
      "outputs": [
        {
          "output_type": "execute_result",
          "data": {
            "text/plain": [
              "(tensor([[-2.0000],\n",
              "         [-1.7895],\n",
              "         [-1.5789],\n",
              "         [-1.3684],\n",
              "         [-1.1579]]),\n",
              " tensor([[11.8690],\n",
              "         [ 6.5433],\n",
              "         [ 5.9396],\n",
              "         [ 2.6304],\n",
              "         [ 1.7947]], dtype=torch.float64))"
            ]
          },
          "metadata": {},
          "execution_count": 8
        }
      ]
    },
    {
      "cell_type": "markdown",
      "source": [
        "As you can see, they're *tensors*. A tensor is just like an `array` in numpy (if you're not familiar with numpy, I strongly recommend reading [this great book](https://wesmckinney.com/book/), because it's a critical foundation for nearly all numeric programming in Python. Furthermore, PyTorch, which most researchers use for deep learning, is modeled closely on numpy.) A tensor can be a single number (a *scalar* or *rank-0 tensor*), a list of numbers (a *vector* or *rank-1 tensor*), a table of numbers (a *matrix* or *rank-0 tensor*), a table of tables of numbers (a *rank-3 tensor*), and so forth.\n",
        "\n",
        "We're not going to learn much about our data by just looking at the raw numbers, so let's draw a picture:"
      ],
      "metadata": {
        "id": "WONYzpkW-WOr"
      }
    },
    {
      "cell_type": "code",
      "source": [
        "plt.scatter(x,y);"
      ],
      "metadata": {
        "execution": {
          "iopub.status.busy": "2022-04-23T08:54:37.903248Z",
          "iopub.execute_input": "2022-04-23T08:54:37.903736Z",
          "iopub.status.idle": "2022-04-23T08:54:38.141765Z",
          "shell.execute_reply.started": "2022-04-23T08:54:37.903689Z",
          "shell.execute_reply": "2022-04-23T08:54:38.140818Z"
        },
        "trusted": true,
        "id": "tqC42FGL-WOr",
        "outputId": "fd24d2a9-793d-472c-afcb-58c662575af1",
        "colab": {
          "base_uri": "https://localhost:8080/",
          "height": 389
        }
      },
      "execution_count": null,
      "outputs": [
        {
          "output_type": "display_data",
          "data": {
            "text/plain": [
              "<Figure size 576x432 with 1 Axes>"
            ],
            "image/png": "[encoded data removed]"
          },
          "metadata": {}
        }
      ]
    },
    {
      "cell_type": "markdown",
      "source": [
        "How do we find values of a, b, and c which fit this data? One approach is to try a few values and see what fits. Here's a function which overlays a quadratic on top of our data, along with some sliders to change a, b, and c, and see how it looks:"
      ],
      "metadata": {
        "id": "VnzMWO1u-WOr"
      }
    },
    {
      "cell_type": "code",
      "source": [
        "@interact(a=1.1, b=1.1, c=1.1)\n",
        "def plot_quad(a, b, c):\n",
        "    plt.scatter(x,y)\n",
        "    plot_function(mk_quad(a,b,c), ylim=(-3,13))\n",
        "    plt.show()"
      ],
      "metadata": {
        "execution": {
          "iopub.status.busy": "2022-04-23T08:54:38.143544Z",
          "iopub.execute_input": "2022-04-23T08:54:38.143753Z",
          "iopub.status.idle": "2022-04-23T08:54:38.372553Z",
          "shell.execute_reply.started": "2022-04-23T08:54:38.143725Z",
          "shell.execute_reply": "2022-04-23T08:54:38.37172Z"
        },
        "trusted": true,
        "id": "dpO1PuGf-WOs",
        "outputId": "d83a4c4d-c7c7-46ee-eb54-8311cd19d4b7",
        "colab": {
          "base_uri": "https://localhost:8080/",
          "height": 485,
          "referenced_widgets": [
            "8ad031fc597b4f0a85e907263f3995c9",
            "3d403c50d16641eebcad1010f2ca72ad",
            "d8036db7f89a42ba90cd0c8b8ad382d6",
            "4777e06d870d4f97841379ae1b8c6a74",
            "e17c33c4d8714b37a2522e5bd6a4ba40",
            "c93d3eae7b904b8483da1e53907fb778",
            "8987f1200f57402a912296232e0a5a15",
            "9fa7ab674b734ee5aac5d68c36b2ebbb",
            "1b6e9927726746b5b1c90975b821dcdb",
            "f5cddc837ff1482e83210a209cb6927c",
            "f2484faa9ea0433cbffc0d36530522df",
            "362de71e5f2143bf8c9e674def78069e",
            "40f131f5b5234b679be2815c8966db1a"
          ]
        }
      },
      "execution_count": null,
      "outputs": [
        {
          "output_type": "display_data",
          "data": {
            "text/plain": [
              "interactive(children=(FloatSlider(value=1.1, description='a', max=3.3000000000000003, min=-1.1), FloatSlider(v…"
            ],
            "application/vnd.jupyter.widget-view+json": {
              "version_major": 2,
              "version_minor": 0,
              "model_id": "8ad031fc597b4f0a85e907263f3995c9"
            }
          },
          "metadata": {}
        }
      ]
    },
    {
      "cell_type": "markdown",
      "source": [
        "**Reminder**: If the sliders above aren't working for you, that's because the interactive features of this notebook don't work in Kaggle's *Reader* mode. They only work in *Edit* mode. Please click \"**Copy & Edit**\" in the top right of this window, then in the menu click *Run* and then *Run all*. Then you'll be able to use all the interactive sliders in this notebook."
      ],
      "metadata": {
        "id": "rqidbvz--WOs"
      }
    },
    {
      "cell_type": "markdown",
      "source": [
        "Try moving slider `a` a bit to the left. Does that look better or worse? How about if you move it a bit to the right? Find out which direction seems to improve the fit of the quadratic to the data, and move the slider a bit in that direction. Next, do the same for slider `b`: first figure out which direction improves the fit, then move it a bit in that direction. Then do the same for `c`.\n",
        "\n",
        "OK, now go back to slider `a` and repeat the process. Do it again for `b` and `c` as well.\n",
        "\n",
        "Did you notice that by going back and doing the sliders a second time that you were able to improve things a bit further? That's an important insight -- it's only after changing `b` and `c`, for instance, that you realise that `a` actually needs some adjustment based on those new values.\n",
        "\n",
        "One thing that's making this tricky is that we don't really have a great sense of whether our fit is really better or worse. It would be easier if we had a numeric measure of that. On easy metric we could use is *mean absolute error* -- which is the distance from each data point to the curve:"
      ],
      "metadata": {
        "id": "dZw40PkC-WOs"
      }
    },
    {
      "cell_type": "code",
      "source": [
        "def mae(preds, acts): return (torch.abs(preds-acts)).mean()"
      ],
      "metadata": {
        "execution": {
          "iopub.status.busy": "2022-04-23T08:55:06.428918Z",
          "iopub.execute_input": "2022-04-23T08:55:06.429237Z",
          "iopub.status.idle": "2022-04-23T08:55:06.433738Z",
          "shell.execute_reply.started": "2022-04-23T08:55:06.429205Z",
          "shell.execute_reply": "2022-04-23T08:55:06.432713Z"
        },
        "trusted": true,
        "id": "YrSA5ZCb-WOs"
      },
      "execution_count": null,
      "outputs": []
    },
    {
      "cell_type": "markdown",
      "source": [
        "We'll update our interactive function to print this at the top for us.\n",
        "\n",
        "Use this to repeat the approach we took before to try to find the best fit, but this time just use the value of the metric to decide which direction to move each slider, and how far to move it.\n",
        "\n",
        "This time around, try doing it in the opposite order: `c`, then `b`, then `a`.\n",
        "\n",
        "You'll probably find that you have to go through the set of sliders a couple of times to get the best fit."
      ],
      "metadata": {
        "id": "1j6oq4mu-WOs"
      }
    },
    {
      "cell_type": "code",
      "source": [
        "@interact(a=1.1, b=1.1, c=1.1)\n",
        "def plot_quad(a, b, c):\n",
        "    f = mk_quad(a,b,c)\n",
        "    plt.scatter(x,y)\n",
        "    loss = mae(f(x), y)\n",
        "    plot_function(f, ylim=(-3,12), title=f\"MAE: {loss:.2f}\")\n",
        "    plt.show()"
      ],
      "metadata": {
        "execution": {
          "iopub.status.busy": "2022-04-23T08:55:07.451295Z",
          "iopub.execute_input": "2022-04-23T08:55:07.452152Z",
          "iopub.status.idle": "2022-04-23T08:55:07.701428Z",
          "shell.execute_reply.started": "2022-04-23T08:55:07.452102Z",
          "shell.execute_reply": "2022-04-23T08:55:07.700643Z"
        },
        "trusted": true,
        "id": "C2r0RKw0-WOt",
        "outputId": "c4a543de-5076-4025-afc8-3f069e3bf113",
        "colab": {
          "base_uri": "https://localhost:8080/",
          "height": 504,
          "referenced_widgets": [
            "6e034cec38b046d8bc840fb1b1940e3c",
            "db1db1c9d0c04f2db9b0a233ff6949b4",
            "0f3faf1011f04920be4a757ac2b40ccb",
            "ce6f0fc683114fb2911dfe19d27b6cc9",
            "2a722e81592047ffbbf72fc304137091",
            "eb0475537a0f42678579015bab5e72ab",
            "2539fe578b1d492981bfe5166d32f371",
            "bf9b192fb67146d8a811fe2fd62c26d3",
            "0027ae0ac0094cddade20af2312544ee",
            "f8aab79ea5e34d6badc81060a948a163",
            "0cee746b5cad406e9c339d688c12b5df",
            "225d785615c7486fa1e4d6393b609f23",
            "0f30922a1cad4e0ba2034090be3e7499"
          ]
        }
      },
      "execution_count": null,
      "outputs": [
        {
          "output_type": "display_data",
          "data": {
            "text/plain": [
              "interactive(children=(FloatSlider(value=1.1, description='a', max=3.3000000000000003, min=-1.1), FloatSlider(v…"
            ],
            "application/vnd.jupyter.widget-view+json": {
              "version_major": 2,
              "version_minor": 0,
              "model_id": "6e034cec38b046d8bc840fb1b1940e3c"
            }
          },
          "metadata": {}
        }
      ]
    },
    {
      "cell_type": "markdown",
      "source": [
        "In a modern neural network we'll often have tens of millions of parameters to fit, or more, and thousands or millions of data points to fit them to. We're not going to be able to do that by moving sliders around! We'll need to automate this process.\n",
        "\n",
        "Thankfully, that turns out to be pretty straightforward. We can use calculus to figure out, for each parameter, whether we should increase or decrease it.\n",
        "\n",
        "Uh oh, calculus! If you haven't touched calculus since school, you might be getting ready to run away at this point. But don't worry, we don't actually need much calculus at all. Just derivatives, which measure the rate of change of a function. We don't even need to calculate them ourselves, because the computer will do it for us! If you've forgotten what a derivitive is, then watch the first three of these fantastic [videos by Professor Dave](https://www.youtube.com/playlist?list=PLybg94GvOJ9ELZEe9s2NXTKr41Yedbw7M). It's only 15 minutes in total, so give it a go! Then come back here and we'll continue on our journey..."
      ],
      "metadata": {
        "id": "DBeDP9jv-WOt"
      }
    },
    {
      "cell_type": "markdown",
      "source": [
        "## Automating gradient descent"
      ],
      "metadata": {
        "id": "A7FYelW4-WOt"
      }
    },
    {
      "cell_type": "markdown",
      "source": [
        "The basic idea is this: if we know the *gradient* of our `mae()` function *with respect to* our parameters, `a`, `b`, and `c`, then that means we know how adjusting (for instance) `a` will change the value of `mae()`. If, say, `a` has a *negative* gradient, then we know that increasing `a` will decrease `mae()`. Then we know that's what we need to do, since we trying to make `mae()` as low as possible.\n",
        "\n",
        "So, we find the gradient of `mae()` for each of our parameters, and then adjust our parameters a bit in the *opposite* direction to the sign of the gradient.\n",
        "\n",
        "To do this, first we need a function that takes all the parameters `a`, `b`, and `c` as a single vector input, and returns the value `mae()` based on those parameters:"
      ],
      "metadata": {
        "id": "a9fCltfu-WOt"
      }
    },
    {
      "cell_type": "code",
      "source": [
        "def quad_mae(params):\n",
        "    f = mk_quad(*params)\n",
        "    return mae(f(x), y)"
      ],
      "metadata": {
        "execution": {
          "iopub.status.busy": "2022-04-22T22:28:41.831976Z",
          "iopub.execute_input": "2022-04-22T22:28:41.832211Z",
          "iopub.status.idle": "2022-04-22T22:28:41.837761Z",
          "shell.execute_reply.started": "2022-04-22T22:28:41.832181Z",
          "shell.execute_reply": "2022-04-22T22:28:41.836892Z"
        },
        "trusted": true,
        "id": "DXFvTb1g-WOu"
      },
      "execution_count": null,
      "outputs": []
    },
    {
      "cell_type": "markdown",
      "source": [
        "Let's try it:"
      ],
      "metadata": {
        "id": "ss08ibj3-WOu"
      }
    },
    {
      "cell_type": "code",
      "source": [
        "quad_mae([1.1, 1.1, 1.1])"
      ],
      "metadata": {
        "execution": {
          "iopub.status.busy": "2022-04-22T22:28:41.839427Z",
          "iopub.execute_input": "2022-04-22T22:28:41.839663Z",
          "iopub.status.idle": "2022-04-22T22:28:41.853343Z",
          "shell.execute_reply.started": "2022-04-22T22:28:41.839635Z",
          "shell.execute_reply": "2022-04-22T22:28:41.852644Z"
        },
        "trusted": true,
        "id": "FOGhIYUn-WOu",
        "outputId": "33ebbdbb-3344-4faa-c2f9-327e5dad8846",
        "colab": {
          "base_uri": "https://localhost:8080/"
        }
      },
      "execution_count": null,
      "outputs": [
        {
          "output_type": "execute_result",
          "data": {
            "text/plain": [
              "tensor(2.4219, dtype=torch.float64)"
            ]
          },
          "metadata": {},
          "execution_count": 16
        }
      ]
    },
    {
      "cell_type": "markdown",
      "source": [
        "Yup, that's the same as the starting `mae()` we had in our plot before.\n",
        "\n",
        "We're first going to do exactly the same thing as we did manually -- pick some arbritrary starting point for our parameters. We'll put them all into a single tensor:"
      ],
      "metadata": {
        "id": "xAsPTYMz-WOu"
      }
    },
    {
      "cell_type": "code",
      "source": [
        "abc = torch.tensor([1.1,1.1,1.1])"
      ],
      "metadata": {
        "execution": {
          "iopub.status.busy": "2022-04-22T22:28:41.854708Z",
          "iopub.execute_input": "2022-04-22T22:28:41.855001Z",
          "iopub.status.idle": "2022-04-22T22:28:41.863677Z",
          "shell.execute_reply.started": "2022-04-22T22:28:41.854965Z",
          "shell.execute_reply": "2022-04-22T22:28:41.862424Z"
        },
        "trusted": true,
        "id": "3kzGE-h4-WOv"
      },
      "execution_count": null,
      "outputs": []
    },
    {
      "cell_type": "markdown",
      "source": [
        "To tell PyTorch that we want it to calculate gradients for these parameters, we need to call `requires_grad_()`:"
      ],
      "metadata": {
        "id": "JRNRaRvj-WOv"
      }
    },
    {
      "cell_type": "code",
      "source": [
        "abc.requires_grad_()"
      ],
      "metadata": {
        "execution": {
          "iopub.status.busy": "2022-04-22T22:28:41.865105Z",
          "iopub.execute_input": "2022-04-22T22:28:41.86557Z",
          "iopub.status.idle": "2022-04-22T22:28:41.881016Z",
          "shell.execute_reply.started": "2022-04-22T22:28:41.865497Z",
          "shell.execute_reply": "2022-04-22T22:28:41.879681Z"
        },
        "trusted": true,
        "id": "iU5vLSpp-WOv",
        "outputId": "bb314dc1-169e-4409-b84f-8c305746ecf0",
        "colab": {
          "base_uri": "https://localhost:8080/"
        }
      },
      "execution_count": null,
      "outputs": [
        {
          "output_type": "execute_result",
          "data": {
            "text/plain": [
              "tensor([1.1000, 1.1000, 1.1000], requires_grad=True)"
            ]
          },
          "metadata": {},
          "execution_count": 18
        }
      ]
    },
    {
      "cell_type": "markdown",
      "source": [
        "We can now calculate `mae()`. Generally, when doing gradient descent, the thing we're trying to minimise is called the *loss*:"
      ],
      "metadata": {
        "id": "buVAY1wK-WOv"
      }
    },
    {
      "cell_type": "code",
      "source": [
        "loss = quad_mae(abc)\n",
        "loss"
      ],
      "metadata": {
        "execution": {
          "iopub.status.busy": "2022-04-22T22:28:41.882498Z",
          "iopub.execute_input": "2022-04-22T22:28:41.882908Z",
          "iopub.status.idle": "2022-04-22T22:28:41.894811Z",
          "shell.execute_reply.started": "2022-04-22T22:28:41.882865Z",
          "shell.execute_reply": "2022-04-22T22:28:41.893828Z"
        },
        "trusted": true,
        "id": "jFXriW9e-WOw",
        "outputId": "3a950ee9-2da4-4889-d88a-1365a84db87e",
        "colab": {
          "base_uri": "https://localhost:8080/"
        }
      },
      "execution_count": null,
      "outputs": [
        {
          "output_type": "execute_result",
          "data": {
            "text/plain": [
              "tensor(2.4219, dtype=torch.float64, grad_fn=<MeanBackward0>)"
            ]
          },
          "metadata": {},
          "execution_count": 19
        }
      ]
    },
    {
      "cell_type": "markdown",
      "source": [
        "To get PyTorch to now calculate the gradients, we need to call `backward()`"
      ],
      "metadata": {
        "id": "LZK37ZdS-WOx"
      }
    },
    {
      "cell_type": "code",
      "source": [
        "loss.backward()"
      ],
      "metadata": {
        "execution": {
          "iopub.status.busy": "2022-04-22T22:28:41.896144Z",
          "iopub.execute_input": "2022-04-22T22:28:41.896493Z",
          "iopub.status.idle": "2022-04-22T22:28:41.914719Z",
          "shell.execute_reply.started": "2022-04-22T22:28:41.896462Z",
          "shell.execute_reply": "2022-04-22T22:28:41.913717Z"
        },
        "trusted": true,
        "id": "HDbQqr3W-WOy"
      },
      "execution_count": null,
      "outputs": []
    },
    {
      "cell_type": "markdown",
      "source": [
        "The gradients will be stored for us in an attribute called `grad`:"
      ],
      "metadata": {
        "id": "c7ys4oPf-WOy"
      }
    },
    {
      "cell_type": "code",
      "source": [
        "abc.grad"
      ],
      "metadata": {
        "execution": {
          "iopub.status.busy": "2022-04-22T22:28:41.916372Z",
          "iopub.execute_input": "2022-04-22T22:28:41.91704Z",
          "iopub.status.idle": "2022-04-22T22:28:41.925299Z",
          "shell.execute_reply.started": "2022-04-22T22:28:41.916988Z",
          "shell.execute_reply": "2022-04-22T22:28:41.924407Z"
        },
        "trusted": true,
        "id": "DpG9A59h-WOy",
        "outputId": "795cb9ee-7d17-4fc4-e766-f31c07c54ba2",
        "colab": {
          "base_uri": "https://localhost:8080/"
        }
      },
      "execution_count": null,
      "outputs": [
        {
          "output_type": "execute_result",
          "data": {
            "text/plain": [
              "tensor([-1.3529, -0.0316, -0.5000])"
            ]
          },
          "metadata": {},
          "execution_count": 21
        }
      ]
    },
    {
      "cell_type": "markdown",
      "source": [
        "According to these gradients, all our parameters are a little low. So let's increase them a bit. If we subtract the gradient, multiplied by a small number, that should improve them a bit:"
      ],
      "metadata": {
        "id": "ea1m7SQm-WOz"
      }
    },
    {
      "cell_type": "code",
      "source": [
        "with torch.no_grad():\n",
        "    abc -= abc.grad*0.01\n",
        "    loss = quad_mae(abc)\n",
        "\n",
        "print(f'loss={loss:.2f}')"
      ],
      "metadata": {
        "execution": {
          "iopub.status.busy": "2022-04-22T22:28:41.927221Z",
          "iopub.execute_input": "2022-04-22T22:28:41.927714Z",
          "iopub.status.idle": "2022-04-22T22:28:41.941471Z",
          "shell.execute_reply.started": "2022-04-22T22:28:41.927665Z",
          "shell.execute_reply": "2022-04-22T22:28:41.940784Z"
        },
        "trusted": true,
        "id": "dECVz3Ul-WOz",
        "outputId": "89752e5e-9b4b-4598-b375-18daaa4893c2",
        "colab": {
          "base_uri": "https://localhost:8080/"
        }
      },
      "execution_count": null,
      "outputs": [
        {
          "output_type": "stream",
          "name": "stdout",
          "text": [
            "loss=2.40\n"
          ]
        }
      ]
    },
    {
      "cell_type": "markdown",
      "source": [
        "Yes, our loss has gone down!\n",
        "\n",
        "The \"small number\" we multiply is called the *learning rate*, and is the most important *hyper-parameter* to set when training a neural network.\n",
        "\n",
        "BTW, you'll see we had to wrap our calculation of the new parameters in `with torch.no_grad()`. That disables the calculation of gradients for any operations inside that context manager. We have to do that, because `abc -= abc.grad*0.01` isn't actually part of our quadratic model, so we don't want derivitives to include that calculation.\n",
        "\n",
        "We can use a loop to do a few more iterations of this:"
      ],
      "metadata": {
        "id": "7tfpakGz-WO0"
      }
    },
    {
      "cell_type": "code",
      "source": [
        "for i in range(10):\n",
        "    loss = quad_mae(abc)\n",
        "    loss.backward()\n",
        "    with torch.no_grad(): abc -= abc.grad*0.01\n",
        "    print(f'step={i}; loss={loss:.2f}')"
      ],
      "metadata": {
        "execution": {
          "iopub.status.busy": "2022-04-22T22:28:41.942822Z",
          "iopub.execute_input": "2022-04-22T22:28:41.943242Z",
          "iopub.status.idle": "2022-04-22T22:28:41.968186Z",
          "shell.execute_reply.started": "2022-04-22T22:28:41.943202Z",
          "shell.execute_reply": "2022-04-22T22:28:41.967081Z"
        },
        "trusted": true,
        "id": "lk03og_Q-WO0",
        "outputId": "67f314cf-bf92-41a5-f4a7-942c8aee259c",
        "colab": {
          "base_uri": "https://localhost:8080/"
        }
      },
      "execution_count": null,
      "outputs": [
        {
          "output_type": "stream",
          "name": "stdout",
          "text": [
            "step=0; loss=2.40\n",
            "step=1; loss=2.36\n",
            "step=2; loss=2.30\n",
            "step=3; loss=2.21\n",
            "step=4; loss=2.11\n",
            "step=5; loss=1.98\n",
            "step=6; loss=1.85\n",
            "step=7; loss=1.72\n",
            "step=8; loss=1.58\n",
            "step=9; loss=1.46\n"
          ]
        }
      ]
    },
    {
      "cell_type": "markdown",
      "source": [
        "As you can see, our loss keeps going down!\n",
        "\n",
        "If you keep running this loop for long enough however, you'll see that the loss eventually starts increasing for a while. That's because once the parameters get close to the correct answer, our parameter updates will jump right over the correct answer! To avoid this, we need to decrease our learning rate as we train. This is done using a *learning rate schedule*, and can be automated in most deep learning frameworks, such as fastai and PyTorch."
      ],
      "metadata": {
        "id": "LAtXG5EP-WO0"
      }
    },
    {
      "cell_type": "markdown",
      "source": [
        "## How a neural network approximates any given function"
      ],
      "metadata": {
        "id": "WNUht9BN-WO1"
      }
    },
    {
      "cell_type": "markdown",
      "source": [
        "But neural nets are much more convenient and powerful than this example showed, because we can learn much more than just a quadratic with them. How does *that* work?\n",
        "\n",
        "The trick is that a neural network is a very expressive function. In fact -- it's [infinitely expressive](https://en.wikipedia.org/wiki/Universal_approximation_theorem). A neural network can approximate any computable function, given enough parameters. A \"computable function\" can cover just about anything you can imagine: understand and translate human speech; paint a picture; diagnose a disease from medical imaging; write an essay; etc...\n",
        "\n",
        "The way a neural network approximates a function actually turns out to be very simple. The key trick is to combine two extremely basic steps:\n",
        "\n",
        "1. Matrix multiplication, which is just multiplying things together and then adding them up\n",
        "1. The function $max(x,0)$, which simply replaces all negative numbers with zero.\n",
        "\n",
        "In PyTorch, the function $max(x,0)$ is written as `np.clip(x,0)`. The combination of a linear function and this *max()* is called a *rectified linear function*, and it can be implemented like this:"
      ],
      "metadata": {
        "id": "VnXscEom-WO1"
      }
    },
    {
      "cell_type": "code",
      "source": [
        "def rectified_linear(m,b,x):\n",
        "    y = m*x+b\n",
        "    return torch.clip(y, 0.)"
      ],
      "metadata": {
        "execution": {
          "iopub.status.busy": "2022-04-22T22:28:41.970051Z",
          "iopub.execute_input": "2022-04-22T22:28:41.970814Z",
          "iopub.status.idle": "2022-04-22T22:28:41.976113Z",
          "shell.execute_reply.started": "2022-04-22T22:28:41.970763Z",
          "shell.execute_reply": "2022-04-22T22:28:41.975338Z"
        },
        "trusted": true,
        "id": "Jx0LmAJb-WO2"
      },
      "execution_count": null,
      "outputs": []
    },
    {
      "cell_type": "markdown",
      "source": [
        "Here's what it looks like:"
      ],
      "metadata": {
        "id": "ObypuhNl-WO2"
      }
    },
    {
      "cell_type": "code",
      "source": [
        "plot_function(partial(rectified_linear, 1,1))"
      ],
      "metadata": {
        "execution": {
          "iopub.status.busy": "2022-04-22T22:28:41.977336Z",
          "iopub.execute_input": "2022-04-22T22:28:41.978052Z",
          "iopub.status.idle": "2022-04-22T22:28:42.197682Z",
          "shell.execute_reply.started": "2022-04-22T22:28:41.978012Z",
          "shell.execute_reply": "2022-04-22T22:28:42.196709Z"
        },
        "trusted": true,
        "id": "CZ-v19T_-WO2",
        "outputId": "069b2555-69f4-4f48-e5bf-901768ef424c",
        "colab": {
          "base_uri": "https://localhost:8080/",
          "height": 389
        }
      },
      "execution_count": null,
      "outputs": [
        {
          "output_type": "display_data",
          "data": {
            "text/plain": [
              "<Figure size 576x432 with 1 Axes>"
            ],
            "image/png": "[encoded data removed]"
          },
          "metadata": {}
        }
      ]
    },
    {
      "cell_type": "markdown",
      "source": [
        "BTW, instead of `torch.clip(y, 0.)`, we can instead use `F.relu(x)`, which does exactly the same thing. In PyTorch, `F` refers to the `torch.nn.functional` module."
      ],
      "metadata": {
        "id": "C1PyYN6_-WO3"
      }
    },
    {
      "cell_type": "code",
      "source": [
        "import torch.nn.functional as F\n",
        "def rectified_linear2(m,b,x): return F.relu(m*x+b)\n",
        "plot_function(partial(rectified_linear2, 1,1))"
      ],
      "metadata": {
        "execution": {
          "iopub.status.busy": "2022-04-22T22:28:42.199561Z",
          "iopub.execute_input": "2022-04-22T22:28:42.200133Z",
          "iopub.status.idle": "2022-04-22T22:28:42.40433Z",
          "shell.execute_reply.started": "2022-04-22T22:28:42.200083Z",
          "shell.execute_reply": "2022-04-22T22:28:42.403323Z"
        },
        "trusted": true,
        "id": "bEmBa3h8-WO3",
        "outputId": "38279e7c-645e-434d-deba-725ef043e326",
        "colab": {
          "base_uri": "https://localhost:8080/",
          "height": 389
        }
      },
      "execution_count": null,
      "outputs": [
        {
          "output_type": "display_data",
          "data": {
            "text/plain": [
              "<Figure size 576x432 with 1 Axes>"
            ],
            "image/png": "[encoded data removed]"
          },
          "metadata": {}
        }
      ]
    },
    {
      "cell_type": "markdown",
      "source": [
        "To understand how this function works, try using this interactive version to play around with the parameters `m` and `b`:"
      ],
      "metadata": {
        "id": "t4ZhGR-B-WO3"
      }
    },
    {
      "cell_type": "code",
      "source": [
        "@interact(m=1.5, b=1.5)\n",
        "def plot_relu(m, b):\n",
        "    plot_function(partial(rectified_linear, m,b), ylim=(-1,4))"
      ],
      "metadata": {
        "execution": {
          "iopub.status.busy": "2022-04-22T22:28:42.405808Z",
          "iopub.execute_input": "2022-04-22T22:28:42.406108Z",
          "iopub.status.idle": "2022-04-22T22:28:42.61219Z",
          "shell.execute_reply.started": "2022-04-22T22:28:42.406071Z",
          "shell.execute_reply": "2022-04-22T22:28:42.61144Z"
        },
        "trusted": true,
        "id": "hQxQZYSs-WO4",
        "outputId": "3f6ab4d5-c8eb-4e59-b9d1-9911e656eff6",
        "colab": {
          "base_uri": "https://localhost:8080/",
          "height": 458,
          "referenced_widgets": [
            "a6697e6005a14312af2c428e4b0cf577",
            "32fdd14947e649209e75db77e24e277b",
            "0879538fa1b844f4ba61946462094bd7",
            "9e55fbab045b48c584cea306c135da1c",
            "fea1a6c9732f4701a69865a582756b1a",
            "30de3bb856584e5fa59a25429a52e3e8",
            "981542cd431b4d8b9a07ff214477c9bc",
            "7b2306c6af1046b8b7e5024fd7877849",
            "3f9b694c75d94058b52af08edfa64698",
            "ae5b6a44485a4b4fb9c304939f8ddf57"
          ]
        }
      },
      "execution_count": null,
      "outputs": [
        {
          "output_type": "display_data",
          "data": {
            "text/plain": [
              "interactive(children=(FloatSlider(value=1.5, description='m', max=4.5, min=-1.5), FloatSlider(value=1.5, descr…"
            ],
            "application/vnd.jupyter.widget-view+json": {
              "version_major": 2,
              "version_minor": 0,
              "model_id": "a6697e6005a14312af2c428e4b0cf577"
            }
          },
          "metadata": {}
        },
        {
          "output_type": "display_data",
          "data": {
            "text/plain": [
              "<Figure size 576x432 with 1 Axes>"
            ],
            "image/png": "[encoded data removed]"
          },
          "metadata": {}
        }
      ]
    },
    {
      "cell_type": "markdown",
      "source": [
        "As you see, `m` changes the slope, and `b` changes where the \"hook\" appears. This function doesn't do much on its own, but look what happens when we add two of them together:"
      ],
      "metadata": {
        "id": "TuZtMqK_-WO5"
      }
    },
    {
      "cell_type": "code",
      "source": [
        "def double_relu(m1,b1,m2,b2,x):\n",
        "    return rectified_linear(m1,b1,x) + rectified_linear(m2,b2,x)\n",
        "\n",
        "@interact(m1=-1.5, b1=-1.5, m2=1.5, b2=1.5)\n",
        "def plot_double_relu(m1, b1, m2, b2):\n",
        "    plot_function(partial(double_relu, m1,b1,m2,b2), ylim=(-1,6))\n",
        "    plt.show()"
      ],
      "metadata": {
        "execution": {
          "iopub.status.busy": "2022-04-22T22:28:42.613745Z",
          "iopub.execute_input": "2022-04-22T22:28:42.614042Z",
          "iopub.status.idle": "2022-04-22T22:28:42.851224Z",
          "shell.execute_reply.started": "2022-04-22T22:28:42.614007Z",
          "shell.execute_reply": "2022-04-22T22:28:42.85035Z"
        },
        "trusted": true,
        "id": "VnYC6P8--WO8",
        "outputId": "f227f19f-8f0e-4af0-8316-d4307c9948d9",
        "colab": {
          "base_uri": "https://localhost:8080/",
          "height": 522,
          "referenced_widgets": [
            "e592fed92c724ce493cca289da1669e8",
            "b070a2f037ae409eb92d3a7fc4626aec",
            "e327a9021be44b9c901fb9d15b4f58be",
            "3fb3b889d1f14154adfd157b3a696829",
            "349d28e9d9c0486aa162a6191fec37b7",
            "0c2a7ddf065448be99740549e08d051a",
            "c2ca4b532b0d4e808fe9bb74d25b61e2",
            "b6f90c5967cb408a8c75b1918740118b",
            "7746d114b20942e787d19a756528b833",
            "db57f9869c6f4047a14c0598d2b079d0",
            "83f72c2af5f447b681bac67eb4c7853c",
            "8de6f873be154e7fb9a69f9390d97ad1",
            "cfe71af0f4734efea3da162029965063",
            "4419f32026cf46fb93be4bdc418a82fd",
            "c274272cf7b64b47b075f671ffd85bb0",
            "5a936194a394453d9bece7b10371dfde"
          ]
        }
      },
      "execution_count": null,
      "outputs": [
        {
          "output_type": "display_data",
          "data": {
            "text/plain": [
              "interactive(children=(FloatSlider(value=-1.5, description='m1', max=1.5, min=-4.5), FloatSlider(value=-1.5, de…"
            ],
            "application/vnd.jupyter.widget-view+json": {
              "version_major": 2,
              "version_minor": 0,
              "model_id": "e592fed92c724ce493cca289da1669e8"
            }
          },
          "metadata": {}
        }
      ]
    },
    {
      "cell_type": "markdown",
      "source": [
        "If you play around with that for a while, you notice something quite profound: with enough of these rectified linear functions added together, you could approximate any function with a single input, to whatever accuracy you like! Any time the function doesn't quite match, you can just add a few more additions to the mix to make it a bit closer. As an experiment, perhaps you'd like to try creating your own `plot_triple_relu` interactive function, and maybe even include the scatter plot of our data from before, to see how close you can get?\n",
        "\n",
        "This exact same approach can be expanded to functions of 2, 3, or more parameters."
      ],
      "metadata": {
        "id": "WkgiY67q-WO9"
      }
    },
    {
      "cell_type": "markdown",
      "source": [
        "## How to recognise an owl"
      ],
      "metadata": {
        "id": "syNaBnAt-WO9"
      }
    },
    {
      "cell_type": "markdown",
      "source": [
        "OK great, we've created a nifty little example showing that we can drawing squiggly lines that go through some points. So what?\n",
        "\n",
        "Well... the truth is that actually drawing squiggly lines (or planes, or high-dimensional hyperplanes...) through some points is literally *all that deep learning does*! If your data points are, say, the RGB values of pixels in photos of owls, then you can create an owl-recogniser model by following the exact steps above.\n",
        "\n",
        "This may, at first, sound about as useful as the classic \"how to draw an owl\" guide:"
      ],
      "metadata": {
        "id": "-vK04WjH-WO9"
      }
    },
    {
      "cell_type": "markdown",
      "source": [
        "Students often ask me at this point \"OK Jeremy, but how do neural nets *actually work*\". But at a foundational level, there is no \"step 2\". We're done -- the above steps will, given enough time and enough data, create (for example) an owl recogniser, if you feed in enough owls (and non-owls).\n",
        "\n",
        "The devil, I guess, is in the \"given enough time and enough data\" part of the above sentence. There's a *lot* of tweaks we can make to reduce both of these things. For instance, instead of running our calculations on a normal CPU, as we've done above, we could do thousands of them simultaneously by taking advantage of a GPU. We could greatly reduce the amount of computation and data needed by using a convolution instead of a matrix multiplication, which basically means skipping over a bunch of the multiplications and additions for bits that you'd guess won't be important. We could make things much faster if, instead of starting with random parameters, we start with parameters of someone else's model that does something similar to what we want (this is called *transfer learning*).\n",
        "\n",
        "And, of course, there's lots of helpful software out there to do this stuff for you without too much fuss. Like, say, [fastai](https://docs.fast.ai).\n",
        "\n",
        "Learning these things is what we teach in our [course](https://course.fast.ai), which, like everything we make, is totally free. So if you're interested in learning more, do check it out!"
      ],
      "metadata": {
        "id": "G0w6Y-Li-WO-"
      }
    },
    {
      "cell_type": "markdown",
      "source": [
        "As always, if you enjoyed this notebook, please upvote it to help others find it, and to encourage me to write more. If you upvote it, be careful you don't accidentally upvote your copy that's created when you click \"Copy & Edit\" -- you can find my original at [this link](https://www.kaggle.com/code/jhoward/how-does-a-neural-net-really-work)."
      ],
      "metadata": {
        "id": "k1s8DCHy-WO-"
      }
    },
    {
      "cell_type": "code",
      "source": [],
      "metadata": {
        "id": "Ou_JXcyN-WO-"
      },
      "execution_count": null,
      "outputs": []
    }
  ]
}