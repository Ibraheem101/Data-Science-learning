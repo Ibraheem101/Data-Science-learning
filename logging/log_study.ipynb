{
 "cells": [
  {
   "cell_type": "code",
   "execution_count": 1,
   "metadata": {},
   "outputs": [
    {
     "name": "stderr",
     "output_type": "stream",
     "text": [
      "WARNING:root:Remain clam!\n"
     ]
    }
   ],
   "source": [
    "\"\"\"Studying logging module\"\"\"\n",
    "import sys\n",
    "import logging\n",
    "logging.warning(\"Remain clam!\")"
   ]
  },
  {
   "cell_type": "markdown",
   "metadata": {},
   "source": [
    "### Change log level"
   ]
  },
  {
   "cell_type": "code",
   "execution_count": 3,
   "metadata": {},
   "outputs": [
    {
     "name": "stderr",
     "output_type": "stream",
     "text": [
      "&(levelname)s: root - Remain clam! [2025-02-28 09:43:03,188]\n"
     ]
    }
   ],
   "source": [
    "# logging.basicConfig(level=logging.DEBUG, force=True)\n",
    "logging.info(\"Remain clam!\")"
   ]
  },
  {
   "cell_type": "markdown",
   "metadata": {},
   "source": [
    "We use `force=True` for this ipynb as per [Stackoverflow answer](https://stackoverflow.com/questions/18786912/get-output-from-the-logging-module-in-ipython-notebook):\n",
    "\n",
    "As of logging version 3.8 a force parameter has been added that removes any existing handlers, which allows basicConfig to work. This worked on IPython version 7.29.0 and Jupyter Lab version 3.2.1.\n",
    "\n",
    "```python\n",
    "import logging\n",
    "logging.basicConfig(level=logging.DEBUG,\n",
    "                    force = True)\n",
    "logging.debug(\"test\")\n",
    "```"
   ]
  },
  {
   "cell_type": "code",
   "execution_count": 4,
   "metadata": {},
   "outputs": [
    {
     "name": "stderr",
     "output_type": "stream",
     "text": [
      "&(levelname)s: root - test [2025-02-28 09:43:03,205]\n"
     ]
    }
   ],
   "source": [
    "logging.debug(\"test\")"
   ]
  },
  {
   "cell_type": "markdown",
   "metadata": {},
   "source": [
    "As seen above, every log contains the log level, the logger’s name, and the log message by default. However, we can change that using the format paremeter"
   ]
  },
  {
   "cell_type": "code",
   "execution_count": 24,
   "metadata": {},
   "outputs": [],
   "source": [
    "logging.basicConfig(level=logging.DEBUG, \n",
    "                    force=True, \n",
    "                    format=\"%(levelname)s: %(name)s - %(message)s [%(asctime)s]\",\n",
    "                    datefmt=\"%Y-%m-%d %H:%M:%S\")"
   ]
  },
  {
   "cell_type": "markdown",
   "metadata": {},
   "source": [
    "For an overview of all the date directives that you can embed into the date format string, you can have a look at the [time.strftime()](https://docs.python.org/3/library/time.html#time.strftime) documentation."
   ]
  },
  {
   "cell_type": "code",
   "execution_count": 25,
   "metadata": {},
   "outputs": [
    {
     "name": "stderr",
     "output_type": "stream",
     "text": [
      "DEBUG: root - test [2025-02-28 09:57:01]\n"
     ]
    }
   ],
   "source": [
    "logging.debug(\"test\")"
   ]
  },
  {
   "cell_type": "code",
   "execution_count": 26,
   "metadata": {},
   "outputs": [
    {
     "name": "stderr",
     "output_type": "stream",
     "text": [
      "ERROR: root - Something went wrong! [2025-02-28 09:57:31]\n"
     ]
    }
   ],
   "source": [
    "logging.error(\"Something went wrong!\")"
   ]
  },
  {
   "cell_type": "markdown",
   "metadata": {},
   "source": [
    "<style>\n",
    "r { color: Red }\n",
    "o { color: Orange }\n",
    "g { color: Green }\n",
    "</style>\n",
    "<r>Note:</r> Calling `basicConfig()` to configure the root logger only works if the root logger hasn’t been configured before. All logging functions automatically call `basicConfig()` without arguments if `basicConfig()` has never been called. So, for example, once you call `logging.debug()`, you’ll no longer be able to configure the root logger with `basicConfig()`."
   ]
  },
  {
   "cell_type": "markdown",
   "metadata": {},
   "source": [
    "We can override this as we've seen by passing `force=True`"
   ]
  },
  {
   "cell_type": "markdown",
   "metadata": {},
   "source": [
    "### Logging to a file"
   ]
  },
  {
   "cell_type": "code",
   "execution_count": 28,
   "metadata": {},
   "outputs": [],
   "source": [
    "logging.basicConfig(level=logging.DEBUG,\n",
    "                    filename=\"logs.log\",\n",
    "                    encoding=\"utf-8\",\n",
    "                    filemode=\"a\",\n",
    "                    force=True, \n",
    "                    format=\"%(levelname)s: %(name)s - %(message)s [%(asctime)s]\",\n",
    "                    datefmt=\"%Y-%m-%d %H:%M:%S\")"
   ]
  },
  {
   "cell_type": "code",
   "execution_count": 29,
   "metadata": {},
   "outputs": [],
   "source": [
    "logging.warning(\"Your code is about to blow up!\")"
   ]
  },
  {
   "cell_type": "markdown",
   "metadata": {},
   "source": [
    "You can even get creative and format your log records in such a way that you can save your logs as CSV files and create your own programs to practice parsing CSV files."
   ]
  },
  {
   "cell_type": "markdown",
   "metadata": {},
   "source": [
    "### Displaying Variable Data\n"
   ]
  },
  {
   "cell_type": "code",
   "execution_count": 35,
   "metadata": {},
   "outputs": [
    {
     "name": "stderr",
     "output_type": "stream",
     "text": [
      "DEBUG: root - developer='Saalim' [2025-02-28 10:23:23]\n"
     ]
    }
   ],
   "source": [
    "logging.basicConfig(level=logging.DEBUG,\n",
    "                    # filename=\"logs.log\",\n",
    "                    # encoding=\"utf-8\",\n",
    "                    # filemode=\"a\",\n",
    "                    force=True, \n",
    "                    format=\"%(levelname)s: %(name)s - %(message)s [%(asctime)s]\",\n",
    "                    datefmt=\"%Y-%m-%d %H:%M:%S\")\n",
    "\n",
    "developer = \"Saalim\"\n",
    "logging.debug(f\"{developer=}\")"
   ]
  },
  {
   "cell_type": "markdown",
   "metadata": {},
   "source": [
    "Using the logging module to see the current value of variables is a good first step when debugging your application. If you want to get even more insights about your code, then it can make sense to send exceptions to your logger."
   ]
  },
  {
   "cell_type": "markdown",
   "metadata": {},
   "source": [
    "### Capturing Stack Traces"
   ]
  },
  {
   "cell_type": "code",
   "execution_count": 37,
   "metadata": {},
   "outputs": [
    {
     "name": "stderr",
     "output_type": "stream",
     "text": [
      "ERROR: root - Ratio Calculation Error [2025-02-28 10:45:37]\n",
      "Traceback (most recent call last):\n",
      "  File \"C:\\Users\\Owner\\AppData\\Local\\Temp\\ipykernel_41524\\3414613155.py\", line 4, in <module>\n",
      "    male_female_ratio = male/female\n",
      "                        ~~~~^~~~~~~\n",
      "ZeroDivisionError: division by zero\n"
     ]
    }
   ],
   "source": [
    "male = 4\n",
    "female = 0\n",
    "try:\n",
    "    male_female_ratio = male/female\n",
    "except ZeroDivisionError:\n",
    "    logging.error(\"Ratio Calculation Error\", exc_info=True)"
   ]
  },
  {
   "cell_type": "markdown",
   "metadata": {},
   "source": [
    "If exc_info isn’t set to True, the output of the above program wouldn’t tell you anything about the exception, which, in a real-world scenario, might not be as simple as a ZeroDivisionError."
   ]
  },
  {
   "cell_type": "markdown",
   "metadata": {},
   "source": [
    "<style>\n",
    "r { color: Red }\n",
    "</style>\n",
    "Calling `logging.exception()` is like calling `logging.error(exc_info=True)`. Since the logging.exception() function always dumps exception information, you should only call `logging.exception()` from an exception handler. When you use `logging.exception()`, it shows a log at the level of <r>ERROR</r>"
   ]
  },
  {
   "cell_type": "code",
   "execution_count": null,
   "metadata": {},
   "outputs": [],
   "source": []
  }
 ],
 "metadata": {
  "kernelspec": {
   "display_name": "Conda (base)",
   "language": "python",
   "name": "base"
  },
  "language_info": {
   "codemirror_mode": {
    "name": "ipython",
    "version": 3
   },
   "file_extension": ".py",
   "mimetype": "text/x-python",
   "name": "python",
   "nbconvert_exporter": "python",
   "pygments_lexer": "ipython3",
   "version": "3.12.4"
  }
 },
 "nbformat": 4,
 "nbformat_minor": 2
}
